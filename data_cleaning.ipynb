{
 "cells": [
  {
   "cell_type": "code",
   "execution_count": 137,
   "metadata": {},
   "outputs": [
    {
     "ename": "SyntaxError",
     "evalue": "invalid syntax (<ipython-input-137-c2cc48f1462b>, line 1)",
     "output_type": "error",
     "traceback": [
      "\u001b[1;36m  File \u001b[1;32m\"<ipython-input-137-c2cc48f1462b>\"\u001b[1;36m, line \u001b[1;32m1\u001b[0m\n\u001b[1;33m    install geopandas\u001b[0m\n\u001b[1;37m            ^\u001b[0m\n\u001b[1;31mSyntaxError\u001b[0m\u001b[1;31m:\u001b[0m invalid syntax\n"
     ]
    }
   ],
   "source": [
    "install geopandas"
   ]
  },
  {
   "cell_type": "code",
   "execution_count": 143,
   "metadata": {},
   "outputs": [
    {
     "ename": "ModuleNotFoundError",
     "evalue": "No module named 'geopandas'",
     "output_type": "error",
     "traceback": [
      "\u001b[1;31m---------------------------------------------------------------------------\u001b[0m",
      "\u001b[1;31mModuleNotFoundError\u001b[0m                       Traceback (most recent call last)",
      "\u001b[1;32m<ipython-input-143-f6ad088ca8db>\u001b[0m in \u001b[0;36m<module>\u001b[1;34m\u001b[0m\n\u001b[0;32m      3\u001b[0m \u001b[1;32mimport\u001b[0m \u001b[0mmatplotlib\u001b[0m\u001b[1;33m.\u001b[0m\u001b[0mpyplot\u001b[0m \u001b[1;32mas\u001b[0m \u001b[0mplt\u001b[0m\u001b[1;33m\u001b[0m\u001b[1;33m\u001b[0m\u001b[0m\n\u001b[0;32m      4\u001b[0m \u001b[1;32mimport\u001b[0m \u001b[0mseaborn\u001b[0m \u001b[1;32mas\u001b[0m \u001b[0msns\u001b[0m\u001b[1;33m\u001b[0m\u001b[1;33m\u001b[0m\u001b[0m\n\u001b[1;32m----> 5\u001b[1;33m \u001b[1;32mimport\u001b[0m \u001b[0mgeopandas\u001b[0m \u001b[1;32mas\u001b[0m \u001b[0mgpd\u001b[0m\u001b[1;33m\u001b[0m\u001b[1;33m\u001b[0m\u001b[0m\n\u001b[0m\u001b[0;32m      6\u001b[0m \u001b[1;32mimport\u001b[0m \u001b[0mwarnings\u001b[0m\u001b[1;33m\u001b[0m\u001b[1;33m\u001b[0m\u001b[0m\n\u001b[0;32m      7\u001b[0m \u001b[0mwarnings\u001b[0m\u001b[1;33m.\u001b[0m\u001b[0mfilterwarnings\u001b[0m\u001b[1;33m(\u001b[0m\u001b[1;34m'ignore'\u001b[0m\u001b[1;33m)\u001b[0m\u001b[1;33m\u001b[0m\u001b[1;33m\u001b[0m\u001b[0m\n",
      "\u001b[1;31mModuleNotFoundError\u001b[0m: No module named 'geopandas'"
     ]
    }
   ],
   "source": [
    "import pandas as pd\n",
    "import numpy as np\n",
    "import matplotlib.pyplot as plt\n",
    "import seaborn as sns\n",
    "import geopandas as gpd\n",
    "import warnings\n",
    "warnings.filterwarnings('ignore')\n",
    "%matplotlib inline\n",
    "plt.rcParams['figure.figsize'] = 15,8\n",
    "\n",
    "import warnings\n",
    "warnings.filterwarnings(\"ignore\")"
   ]
  },
  {
   "cell_type": "code",
   "execution_count": 98,
   "metadata": {},
   "outputs": [],
   "source": [
    "food = pd.read_csv('C:\\\\Users\\\\Nick\\\\Documents\\\\GitHub\\\\Indian_food_project\\\\raw_data\\\\indian_food.csv')"
   ]
  },
  {
   "cell_type": "code",
   "execution_count": 99,
   "metadata": {},
   "outputs": [
    {
     "data": {
      "text/html": [
       "<div>\n",
       "<style scoped>\n",
       "    .dataframe tbody tr th:only-of-type {\n",
       "        vertical-align: middle;\n",
       "    }\n",
       "\n",
       "    .dataframe tbody tr th {\n",
       "        vertical-align: top;\n",
       "    }\n",
       "\n",
       "    .dataframe thead th {\n",
       "        text-align: right;\n",
       "    }\n",
       "</style>\n",
       "<table border=\"1\" class=\"dataframe\">\n",
       "  <thead>\n",
       "    <tr style=\"text-align: right;\">\n",
       "      <th></th>\n",
       "      <th>name</th>\n",
       "      <th>ingredients</th>\n",
       "      <th>diet</th>\n",
       "      <th>prep_time</th>\n",
       "      <th>cook_time</th>\n",
       "      <th>flavor_profile</th>\n",
       "      <th>course</th>\n",
       "      <th>state</th>\n",
       "      <th>region</th>\n",
       "    </tr>\n",
       "  </thead>\n",
       "  <tbody>\n",
       "    <tr>\n",
       "      <th>0</th>\n",
       "      <td>Balu shahi</td>\n",
       "      <td>Maida flour, yogurt, oil, sugar</td>\n",
       "      <td>vegetarian</td>\n",
       "      <td>45</td>\n",
       "      <td>25</td>\n",
       "      <td>sweet</td>\n",
       "      <td>dessert</td>\n",
       "      <td>West Bengal</td>\n",
       "      <td>East</td>\n",
       "    </tr>\n",
       "    <tr>\n",
       "      <th>1</th>\n",
       "      <td>Boondi</td>\n",
       "      <td>Gram flour, ghee, sugar</td>\n",
       "      <td>vegetarian</td>\n",
       "      <td>80</td>\n",
       "      <td>30</td>\n",
       "      <td>sweet</td>\n",
       "      <td>dessert</td>\n",
       "      <td>Rajasthan</td>\n",
       "      <td>West</td>\n",
       "    </tr>\n",
       "    <tr>\n",
       "      <th>2</th>\n",
       "      <td>Gajar ka halwa</td>\n",
       "      <td>Carrots, milk, sugar, ghee, cashews, raisins</td>\n",
       "      <td>vegetarian</td>\n",
       "      <td>15</td>\n",
       "      <td>60</td>\n",
       "      <td>sweet</td>\n",
       "      <td>dessert</td>\n",
       "      <td>Punjab</td>\n",
       "      <td>North</td>\n",
       "    </tr>\n",
       "    <tr>\n",
       "      <th>3</th>\n",
       "      <td>Ghevar</td>\n",
       "      <td>Flour, ghee, kewra, milk, clarified butter, su...</td>\n",
       "      <td>vegetarian</td>\n",
       "      <td>15</td>\n",
       "      <td>30</td>\n",
       "      <td>sweet</td>\n",
       "      <td>dessert</td>\n",
       "      <td>Rajasthan</td>\n",
       "      <td>West</td>\n",
       "    </tr>\n",
       "    <tr>\n",
       "      <th>4</th>\n",
       "      <td>Gulab jamun</td>\n",
       "      <td>Milk powder, plain flour, baking powder, ghee,...</td>\n",
       "      <td>vegetarian</td>\n",
       "      <td>15</td>\n",
       "      <td>40</td>\n",
       "      <td>sweet</td>\n",
       "      <td>dessert</td>\n",
       "      <td>West Bengal</td>\n",
       "      <td>East</td>\n",
       "    </tr>\n",
       "    <tr>\n",
       "      <th>...</th>\n",
       "      <td>...</td>\n",
       "      <td>...</td>\n",
       "      <td>...</td>\n",
       "      <td>...</td>\n",
       "      <td>...</td>\n",
       "      <td>...</td>\n",
       "      <td>...</td>\n",
       "      <td>...</td>\n",
       "      <td>...</td>\n",
       "    </tr>\n",
       "    <tr>\n",
       "      <th>75</th>\n",
       "      <td>Biryani</td>\n",
       "      <td>Chicken thighs, basmati rice, star anise, swee...</td>\n",
       "      <td>non vegetarian</td>\n",
       "      <td>30</td>\n",
       "      <td>120</td>\n",
       "      <td>spicy</td>\n",
       "      <td>main course</td>\n",
       "      <td>Telangana</td>\n",
       "      <td>South</td>\n",
       "    </tr>\n",
       "    <tr>\n",
       "      <th>76</th>\n",
       "      <td>Butter chicken</td>\n",
       "      <td>Chicken, greek yogurt, cream, garam masala pow...</td>\n",
       "      <td>non vegetarian</td>\n",
       "      <td>10</td>\n",
       "      <td>35</td>\n",
       "      <td>spicy</td>\n",
       "      <td>main course</td>\n",
       "      <td>NCT of Delhi</td>\n",
       "      <td>North</td>\n",
       "    </tr>\n",
       "    <tr>\n",
       "      <th>77</th>\n",
       "      <td>Chana masala</td>\n",
       "      <td>Chickpeas, tomato paste, garam masala, ginger,...</td>\n",
       "      <td>vegetarian</td>\n",
       "      <td>20</td>\n",
       "      <td>30</td>\n",
       "      <td>spicy</td>\n",
       "      <td>main course</td>\n",
       "      <td>Punjab</td>\n",
       "      <td>North</td>\n",
       "    </tr>\n",
       "    <tr>\n",
       "      <th>78</th>\n",
       "      <td>Chapati</td>\n",
       "      <td>Whole wheat flour, olive oil, hot water, all p...</td>\n",
       "      <td>vegetarian</td>\n",
       "      <td>10</td>\n",
       "      <td>10</td>\n",
       "      <td>-1</td>\n",
       "      <td>main course</td>\n",
       "      <td>Maharashtra</td>\n",
       "      <td>West</td>\n",
       "    </tr>\n",
       "    <tr>\n",
       "      <th>79</th>\n",
       "      <td>Chicken razala</td>\n",
       "      <td>Chicken, dahi, sesame seeds, garam masala powd...</td>\n",
       "      <td>non vegetarian</td>\n",
       "      <td>10</td>\n",
       "      <td>35</td>\n",
       "      <td>spicy</td>\n",
       "      <td>main course</td>\n",
       "      <td>West Bengal</td>\n",
       "      <td>East</td>\n",
       "    </tr>\n",
       "  </tbody>\n",
       "</table>\n",
       "<p>80 rows × 9 columns</p>\n",
       "</div>"
      ],
      "text/plain": [
       "              name                                        ingredients  \\\n",
       "0       Balu shahi                    Maida flour, yogurt, oil, sugar   \n",
       "1           Boondi                            Gram flour, ghee, sugar   \n",
       "2   Gajar ka halwa       Carrots, milk, sugar, ghee, cashews, raisins   \n",
       "3           Ghevar  Flour, ghee, kewra, milk, clarified butter, su...   \n",
       "4      Gulab jamun  Milk powder, plain flour, baking powder, ghee,...   \n",
       "..             ...                                                ...   \n",
       "75         Biryani  Chicken thighs, basmati rice, star anise, swee...   \n",
       "76  Butter chicken  Chicken, greek yogurt, cream, garam masala pow...   \n",
       "77    Chana masala  Chickpeas, tomato paste, garam masala, ginger,...   \n",
       "78         Chapati  Whole wheat flour, olive oil, hot water, all p...   \n",
       "79  Chicken razala  Chicken, dahi, sesame seeds, garam masala powd...   \n",
       "\n",
       "              diet  prep_time  cook_time flavor_profile       course  \\\n",
       "0       vegetarian         45         25          sweet      dessert   \n",
       "1       vegetarian         80         30          sweet      dessert   \n",
       "2       vegetarian         15         60          sweet      dessert   \n",
       "3       vegetarian         15         30          sweet      dessert   \n",
       "4       vegetarian         15         40          sweet      dessert   \n",
       "..             ...        ...        ...            ...          ...   \n",
       "75  non vegetarian         30        120          spicy  main course   \n",
       "76  non vegetarian         10         35          spicy  main course   \n",
       "77      vegetarian         20         30          spicy  main course   \n",
       "78      vegetarian         10         10             -1  main course   \n",
       "79  non vegetarian         10         35          spicy  main course   \n",
       "\n",
       "           state region  \n",
       "0    West Bengal   East  \n",
       "1      Rajasthan   West  \n",
       "2         Punjab  North  \n",
       "3      Rajasthan   West  \n",
       "4    West Bengal   East  \n",
       "..           ...    ...  \n",
       "75     Telangana  South  \n",
       "76  NCT of Delhi  North  \n",
       "77        Punjab  North  \n",
       "78   Maharashtra   West  \n",
       "79   West Bengal   East  \n",
       "\n",
       "[80 rows x 9 columns]"
      ]
     },
     "execution_count": 99,
     "metadata": {},
     "output_type": "execute_result"
    }
   ],
   "source": [
    "food.head(80)"
   ]
  },
  {
   "cell_type": "code",
   "execution_count": 4,
   "metadata": {},
   "outputs": [
    {
     "name": "stdout",
     "output_type": "stream",
     "text": [
      "<class 'pandas.core.frame.DataFrame'>\n",
      "RangeIndex: 255 entries, 0 to 254\n",
      "Data columns (total 9 columns):\n",
      " #   Column          Non-Null Count  Dtype \n",
      "---  ------          --------------  ----- \n",
      " 0   name            255 non-null    object\n",
      " 1   ingredients     255 non-null    object\n",
      " 2   diet            255 non-null    object\n",
      " 3   prep_time       255 non-null    int64 \n",
      " 4   cook_time       255 non-null    int64 \n",
      " 5   flavor_profile  255 non-null    object\n",
      " 6   course          255 non-null    object\n",
      " 7   state           255 non-null    object\n",
      " 8   region          254 non-null    object\n",
      "dtypes: int64(2), object(7)\n",
      "memory usage: 18.1+ KB\n"
     ]
    }
   ],
   "source": [
    "food.info()"
   ]
  },
  {
   "cell_type": "code",
   "execution_count": 5,
   "metadata": {},
   "outputs": [],
   "source": [
    "# change to UK spelling\n",
    "\n",
    "food.rename(columns = {'flavor_profile':'flavour_profile'}, inplace = True)"
   ]
  },
  {
   "cell_type": "code",
   "execution_count": 6,
   "metadata": {},
   "outputs": [],
   "source": [
    "# changing missing values from '-1' to NaN\n",
    "\n",
    "food = food.replace(-1, np.nan)\n",
    "food = food.replace('-1', np.nan)"
   ]
  },
  {
   "cell_type": "code",
   "execution_count": 7,
   "metadata": {},
   "outputs": [],
   "source": [
    "# changing columns to be categorical \n",
    "\n",
    "food.diet = food.diet.astype('category')\n",
    "food.flavour_profile = food.flavour_profile.astype('category')\n",
    "food.course = food.course.astype('category')\n",
    "food.state = food.state.astype('category')\n",
    "food.region = food.region.astype('category')"
   ]
  },
  {
   "cell_type": "markdown",
   "metadata": {},
   "source": [
    "---"
   ]
  },
  {
   "cell_type": "markdown",
   "metadata": {},
   "source": [
    "Unique values of columns"
   ]
  },
  {
   "cell_type": "code",
   "execution_count": 8,
   "metadata": {},
   "outputs": [
    {
     "data": {
      "text/plain": [
       "name               255\n",
       "ingredients        252\n",
       "diet                 2\n",
       "prep_time           21\n",
       "cook_time           18\n",
       "flavour_profile      4\n",
       "course               4\n",
       "state               24\n",
       "region               6\n",
       "dtype: int64"
      ]
     },
     "execution_count": 8,
     "metadata": {},
     "output_type": "execute_result"
    }
   ],
   "source": [
    "# checking how many unique values there are in all columns \n",
    "\n",
    "food.nunique()"
   ]
  },
  {
   "cell_type": "code",
   "execution_count": 9,
   "metadata": {
    "scrolled": true
   },
   "outputs": [
    {
     "data": {
      "text/plain": [
       "main course    129\n",
       "dessert         85\n",
       "snack           39\n",
       "starter          2\n",
       "Name: course, dtype: int64"
      ]
     },
     "execution_count": 9,
     "metadata": {},
     "output_type": "execute_result"
    }
   ],
   "source": [
    "food.course.value_counts()"
   ]
  },
  {
   "cell_type": "code",
   "execution_count": 10,
   "metadata": {},
   "outputs": [
    {
     "data": {
      "text/plain": [
       "vegetarian        226\n",
       "non vegetarian     29\n",
       "Name: diet, dtype: int64"
      ]
     },
     "execution_count": 10,
     "metadata": {},
     "output_type": "execute_result"
    }
   ],
   "source": [
    "food.diet.value_counts()"
   ]
  },
  {
   "cell_type": "code",
   "execution_count": 11,
   "metadata": {},
   "outputs": [
    {
     "data": {
      "text/plain": [
       "spicy     133\n",
       "sweet      88\n",
       "bitter      4\n",
       "sour        1\n",
       "Name: flavour_profile, dtype: int64"
      ]
     },
     "execution_count": 11,
     "metadata": {},
     "output_type": "execute_result"
    }
   ],
   "source": [
    "food.flavour_profile.value_counts()"
   ]
  },
  {
   "cell_type": "code",
   "execution_count": 12,
   "metadata": {},
   "outputs": [
    {
     "data": {
      "image/png": "[encoded data removed]",
      "text/plain": [
       "<Figure size 1080x576 with 1 Axes>"
      ]
     },
     "metadata": {
      "needs_background": "light"
     },
     "output_type": "display_data"
    }
   ],
   "source": [
    "# Count of diet types\n",
    "\n",
    "sns.countplot(food.diet)\n",
    "plt.title('Count of diet type')\n",
    "plt.show()"
   ]
  },
  {
   "cell_type": "code",
   "execution_count": 13,
   "metadata": {},
   "outputs": [
    {
     "data": {
      "image/png": "[encoded data removed]",
      "text/plain": [
       "<Figure size 1080x576 with 2 Axes>"
      ]
     },
     "metadata": {
      "needs_background": "light"
     },
     "output_type": "display_data"
    }
   ],
   "source": [
    "plt.subplot(1,2,1)\n",
    "sns.countplot(food.diet)\n",
    "plt.title(\"Count Plot of Veg/Non-Veg\")\n",
    "\n",
    "plt.subplot(1,2,2)\n",
    "x = food.diet.value_counts()\n",
    "explode = [0.1,0]\n",
    "labels = ['Veg', 'Non-veg']\n",
    "plt.pie(x, explode = explode, labels = labels, autopct = '%.1f%%')\n",
    "plt.title(\"Pie Chart showing the distribution of Veg/Non-Veg\")\n",
    "plt.show()"
   ]
  },
  {
   "cell_type": "code",
   "execution_count": 14,
   "metadata": {
    "scrolled": false
   },
   "outputs": [
    {
     "data": {
      "image/png": "[encoded data removed]",
      "text/plain": [
       "<Figure size 1080x576 with 1 Axes>"
      ]
     },
     "metadata": {
      "needs_background": "light"
     },
     "output_type": "display_data"
    }
   ],
   "source": [
    "# count of course types\n",
    "\n",
    "sns.countplot(food.course)\n",
    "plt.title('Count of course type')\n",
    "plt.show()"
   ]
  },
  {
   "cell_type": "code",
   "execution_count": 15,
   "metadata": {},
   "outputs": [
    {
     "data": {
      "image/png": "[encoded data removed]",
      "text/plain": [
       "<Figure size 1080x576 with 1 Axes>"
      ]
     },
     "metadata": {
      "needs_background": "light"
     },
     "output_type": "display_data"
    }
   ],
   "source": [
    "# count of flavour profile types\n",
    "\n",
    "sns.countplot(food.flavour_profile)\n",
    "plt.title('Count of flavour profiles')\n",
    "plt.show()"
   ]
  },
  {
   "cell_type": "code",
   "execution_count": 16,
   "metadata": {},
   "outputs": [
    {
     "data": {
      "image/png": "[encoded data removed]",
      "text/plain": [
       "<Figure size 1080x576 with 1 Axes>"
      ]
     },
     "metadata": {
      "needs_background": "light"
     },
     "output_type": "display_data"
    }
   ],
   "source": [
    "# count of region types\n",
    "\n",
    "sns.countplot(food.region)\n",
    "plt.title('Count of Region type')\n",
    "plt.show()"
   ]
  },
  {
   "cell_type": "code",
   "execution_count": 17,
   "metadata": {},
   "outputs": [],
   "source": [
    "region_diet = food.pivot_table(values = 'name', index = 'region', columns = 'diet', aggfunc = 'count')"
   ]
  },
  {
   "cell_type": "code",
   "execution_count": 18,
   "metadata": {},
   "outputs": [
    {
     "data": {
      "text/html": [
       "<div>\n",
       "<style scoped>\n",
       "    .dataframe tbody tr th:only-of-type {\n",
       "        vertical-align: middle;\n",
       "    }\n",
       "\n",
       "    .dataframe tbody tr th {\n",
       "        vertical-align: top;\n",
       "    }\n",
       "\n",
       "    .dataframe thead th {\n",
       "        text-align: right;\n",
       "    }\n",
       "</style>\n",
       "<table border=\"1\" class=\"dataframe\">\n",
       "  <thead>\n",
       "    <tr style=\"text-align: right;\">\n",
       "      <th>diet</th>\n",
       "      <th>non vegetarian</th>\n",
       "      <th>vegetarian</th>\n",
       "    </tr>\n",
       "    <tr>\n",
       "      <th>region</th>\n",
       "      <th></th>\n",
       "      <th></th>\n",
       "    </tr>\n",
       "  </thead>\n",
       "  <tbody>\n",
       "    <tr>\n",
       "      <th>Central</th>\n",
       "      <td>NaN</td>\n",
       "      <td>3.0</td>\n",
       "    </tr>\n",
       "    <tr>\n",
       "      <th>East</th>\n",
       "      <td>5.0</td>\n",
       "      <td>26.0</td>\n",
       "    </tr>\n",
       "    <tr>\n",
       "      <th>North</th>\n",
       "      <td>5.0</td>\n",
       "      <td>44.0</td>\n",
       "    </tr>\n",
       "    <tr>\n",
       "      <th>North East</th>\n",
       "      <td>13.0</td>\n",
       "      <td>12.0</td>\n",
       "    </tr>\n",
       "    <tr>\n",
       "      <th>South</th>\n",
       "      <td>3.0</td>\n",
       "      <td>56.0</td>\n",
       "    </tr>\n",
       "    <tr>\n",
       "      <th>West</th>\n",
       "      <td>3.0</td>\n",
       "      <td>71.0</td>\n",
       "    </tr>\n",
       "  </tbody>\n",
       "</table>\n",
       "</div>"
      ],
      "text/plain": [
       "diet        non vegetarian  vegetarian\n",
       "region                                \n",
       "Central                NaN         3.0\n",
       "East                   5.0        26.0\n",
       "North                  5.0        44.0\n",
       "North East            13.0        12.0\n",
       "South                  3.0        56.0\n",
       "West                   3.0        71.0"
      ]
     },
     "execution_count": 18,
     "metadata": {},
     "output_type": "execute_result"
    }
   ],
   "source": [
    "region_diet"
   ]
  },
  {
   "cell_type": "code",
   "execution_count": 19,
   "metadata": {},
   "outputs": [
    {
     "data": {
      "image/png": "[encoded data removed]",
      "text/plain": [
       "<Figure size 1080x576 with 1 Axes>"
      ]
     },
     "metadata": {
      "needs_background": "light"
     },
     "output_type": "display_data"
    }
   ],
   "source": [
    "region_diet.plot(kind = 'bar', stacked = True, color = ['red', 'green'])\n",
    "plt.title('Number of recepies per Region by diet')\n",
    "plt.show()"
   ]
  },
  {
   "cell_type": "code",
   "execution_count": 20,
   "metadata": {},
   "outputs": [],
   "source": [
    "region_course = food.pivot_table(values = 'name', index = 'region', columns = 'course', aggfunc = 'count')"
   ]
  },
  {
   "cell_type": "code",
   "execution_count": 21,
   "metadata": {},
   "outputs": [
    {
     "data": {
      "text/html": [
       "<div>\n",
       "<style scoped>\n",
       "    .dataframe tbody tr th:only-of-type {\n",
       "        vertical-align: middle;\n",
       "    }\n",
       "\n",
       "    .dataframe tbody tr th {\n",
       "        vertical-align: top;\n",
       "    }\n",
       "\n",
       "    .dataframe thead th {\n",
       "        text-align: right;\n",
       "    }\n",
       "</style>\n",
       "<table border=\"1\" class=\"dataframe\">\n",
       "  <thead>\n",
       "    <tr style=\"text-align: right;\">\n",
       "      <th>course</th>\n",
       "      <th>dessert</th>\n",
       "      <th>main course</th>\n",
       "      <th>snack</th>\n",
       "      <th>starter</th>\n",
       "    </tr>\n",
       "    <tr>\n",
       "      <th>region</th>\n",
       "      <th></th>\n",
       "      <th></th>\n",
       "      <th></th>\n",
       "      <th></th>\n",
       "    </tr>\n",
       "  </thead>\n",
       "  <tbody>\n",
       "    <tr>\n",
       "      <th>Central</th>\n",
       "      <td>1.0</td>\n",
       "      <td>1.0</td>\n",
       "      <td>1.0</td>\n",
       "      <td>NaN</td>\n",
       "    </tr>\n",
       "    <tr>\n",
       "      <th>East</th>\n",
       "      <td>21.0</td>\n",
       "      <td>10.0</td>\n",
       "      <td>NaN</td>\n",
       "      <td>NaN</td>\n",
       "    </tr>\n",
       "    <tr>\n",
       "      <th>North</th>\n",
       "      <td>9.0</td>\n",
       "      <td>37.0</td>\n",
       "      <td>1.0</td>\n",
       "      <td>2.0</td>\n",
       "    </tr>\n",
       "    <tr>\n",
       "      <th>North East</th>\n",
       "      <td>7.0</td>\n",
       "      <td>18.0</td>\n",
       "      <td>NaN</td>\n",
       "      <td>NaN</td>\n",
       "    </tr>\n",
       "    <tr>\n",
       "      <th>South</th>\n",
       "      <td>18.0</td>\n",
       "      <td>31.0</td>\n",
       "      <td>10.0</td>\n",
       "      <td>NaN</td>\n",
       "    </tr>\n",
       "    <tr>\n",
       "      <th>West</th>\n",
       "      <td>23.0</td>\n",
       "      <td>28.0</td>\n",
       "      <td>23.0</td>\n",
       "      <td>NaN</td>\n",
       "    </tr>\n",
       "  </tbody>\n",
       "</table>\n",
       "</div>"
      ],
      "text/plain": [
       "course      dessert  main course  snack  starter\n",
       "region                                          \n",
       "Central         1.0          1.0    1.0      NaN\n",
       "East           21.0         10.0    NaN      NaN\n",
       "North           9.0         37.0    1.0      2.0\n",
       "North East      7.0         18.0    NaN      NaN\n",
       "South          18.0         31.0   10.0      NaN\n",
       "West           23.0         28.0   23.0      NaN"
      ]
     },
     "execution_count": 21,
     "metadata": {},
     "output_type": "execute_result"
    }
   ],
   "source": [
    "region_course"
   ]
  },
  {
   "cell_type": "code",
   "execution_count": 22,
   "metadata": {},
   "outputs": [
    {
     "data": {
      "image/png": "[encoded data removed]",
      "text/plain": [
       "<Figure size 1080x576 with 1 Axes>"
      ]
     },
     "metadata": {
      "needs_background": "light"
     },
     "output_type": "display_data"
    }
   ],
   "source": [
    "region_course.plot(kind = 'bar', stacked = True)\n",
    "plt.title('Number of recepies per Region by course')\n",
    "plt.show()"
   ]
  },
  {
   "cell_type": "code",
   "execution_count": 23,
   "metadata": {},
   "outputs": [],
   "source": [
    "region_flavour = food.pivot_table(values = 'name', index = 'region', columns = 'flavour_profile', aggfunc = 'count')"
   ]
  },
  {
   "cell_type": "code",
   "execution_count": 24,
   "metadata": {
    "scrolled": true
   },
   "outputs": [
    {
     "data": {
      "text/html": [
       "<div>\n",
       "<style scoped>\n",
       "    .dataframe tbody tr th:only-of-type {\n",
       "        vertical-align: middle;\n",
       "    }\n",
       "\n",
       "    .dataframe tbody tr th {\n",
       "        vertical-align: top;\n",
       "    }\n",
       "\n",
       "    .dataframe thead th {\n",
       "        text-align: right;\n",
       "    }\n",
       "</style>\n",
       "<table border=\"1\" class=\"dataframe\">\n",
       "  <thead>\n",
       "    <tr style=\"text-align: right;\">\n",
       "      <th>flavour_profile</th>\n",
       "      <th>bitter</th>\n",
       "      <th>sour</th>\n",
       "      <th>spicy</th>\n",
       "      <th>sweet</th>\n",
       "    </tr>\n",
       "    <tr>\n",
       "      <th>region</th>\n",
       "      <th></th>\n",
       "      <th></th>\n",
       "      <th></th>\n",
       "      <th></th>\n",
       "    </tr>\n",
       "  </thead>\n",
       "  <tbody>\n",
       "    <tr>\n",
       "      <th>Central</th>\n",
       "      <td>NaN</td>\n",
       "      <td>NaN</td>\n",
       "      <td>2.0</td>\n",
       "      <td>1.0</td>\n",
       "    </tr>\n",
       "    <tr>\n",
       "      <th>East</th>\n",
       "      <td>NaN</td>\n",
       "      <td>NaN</td>\n",
       "      <td>6.0</td>\n",
       "      <td>22.0</td>\n",
       "    </tr>\n",
       "    <tr>\n",
       "      <th>North</th>\n",
       "      <td>2.0</td>\n",
       "      <td>NaN</td>\n",
       "      <td>35.0</td>\n",
       "      <td>10.0</td>\n",
       "    </tr>\n",
       "    <tr>\n",
       "      <th>North East</th>\n",
       "      <td>NaN</td>\n",
       "      <td>NaN</td>\n",
       "      <td>13.0</td>\n",
       "      <td>7.0</td>\n",
       "    </tr>\n",
       "    <tr>\n",
       "      <th>South</th>\n",
       "      <td>NaN</td>\n",
       "      <td>NaN</td>\n",
       "      <td>30.0</td>\n",
       "      <td>19.0</td>\n",
       "    </tr>\n",
       "    <tr>\n",
       "      <th>West</th>\n",
       "      <td>2.0</td>\n",
       "      <td>1.0</td>\n",
       "      <td>41.0</td>\n",
       "      <td>23.0</td>\n",
       "    </tr>\n",
       "  </tbody>\n",
       "</table>\n",
       "</div>"
      ],
      "text/plain": [
       "flavour_profile  bitter  sour  spicy  sweet\n",
       "region                                     \n",
       "Central             NaN   NaN    2.0    1.0\n",
       "East                NaN   NaN    6.0   22.0\n",
       "North               2.0   NaN   35.0   10.0\n",
       "North East          NaN   NaN   13.0    7.0\n",
       "South               NaN   NaN   30.0   19.0\n",
       "West                2.0   1.0   41.0   23.0"
      ]
     },
     "execution_count": 24,
     "metadata": {},
     "output_type": "execute_result"
    }
   ],
   "source": [
    "region_flavour"
   ]
  },
  {
   "cell_type": "code",
   "execution_count": 25,
   "metadata": {},
   "outputs": [
    {
     "data": {
      "image/png": "[encoded data removed]",
      "text/plain": [
       "<Figure size 1080x576 with 1 Axes>"
      ]
     },
     "metadata": {
      "needs_background": "light"
     },
     "output_type": "display_data"
    }
   ],
   "source": [
    "region_flavour.plot(kind = 'bar', stacked = True)\n",
    "plt.title('Number of recepies per Region by type of flavour')\n",
    "plt.show()"
   ]
  },
  {
   "cell_type": "code",
   "execution_count": 26,
   "metadata": {},
   "outputs": [],
   "source": [
    "region_time_course = food.pivot_table(values = ['prep_time', 'cook_time'], index = 'course', aggfunc = np.mean)"
   ]
  },
  {
   "cell_type": "code",
   "execution_count": 27,
   "metadata": {},
   "outputs": [
    {
     "data": {
      "text/html": [
       "<div>\n",
       "<style scoped>\n",
       "    .dataframe tbody tr th:only-of-type {\n",
       "        vertical-align: middle;\n",
       "    }\n",
       "\n",
       "    .dataframe tbody tr th {\n",
       "        vertical-align: top;\n",
       "    }\n",
       "\n",
       "    .dataframe thead th {\n",
       "        text-align: right;\n",
       "    }\n",
       "</style>\n",
       "<table border=\"1\" class=\"dataframe\">\n",
       "  <thead>\n",
       "    <tr style=\"text-align: right;\">\n",
       "      <th></th>\n",
       "      <th>cook_time</th>\n",
       "      <th>prep_time</th>\n",
       "    </tr>\n",
       "    <tr>\n",
       "      <th>course</th>\n",
       "      <th></th>\n",
       "      <th></th>\n",
       "    </tr>\n",
       "  </thead>\n",
       "  <tbody>\n",
       "    <tr>\n",
       "      <th>dessert</th>\n",
       "      <td>47.341772</td>\n",
       "      <td>29.961039</td>\n",
       "    </tr>\n",
       "    <tr>\n",
       "      <th>main course</th>\n",
       "      <td>35.272727</td>\n",
       "      <td>29.681818</td>\n",
       "    </tr>\n",
       "    <tr>\n",
       "      <th>snack</th>\n",
       "      <td>31.611111</td>\n",
       "      <td>56.388889</td>\n",
       "    </tr>\n",
       "    <tr>\n",
       "      <th>starter</th>\n",
       "      <td>37.500000</td>\n",
       "      <td>180.000000</td>\n",
       "    </tr>\n",
       "  </tbody>\n",
       "</table>\n",
       "</div>"
      ],
      "text/plain": [
       "             cook_time   prep_time\n",
       "course                            \n",
       "dessert      47.341772   29.961039\n",
       "main course  35.272727   29.681818\n",
       "snack        31.611111   56.388889\n",
       "starter      37.500000  180.000000"
      ]
     },
     "execution_count": 27,
     "metadata": {},
     "output_type": "execute_result"
    }
   ],
   "source": [
    "region_time_course"
   ]
  },
  {
   "cell_type": "code",
   "execution_count": 28,
   "metadata": {},
   "outputs": [
    {
     "data": {
      "image/png": "[encoded data removed]",
      "text/plain": [
       "<Figure size 1080x576 with 1 Axes>"
      ]
     },
     "metadata": {
      "needs_background": "light"
     },
     "output_type": "display_data"
    }
   ],
   "source": [
    "region_time_course.plot(kind = 'bar', stacked = True)\n",
    "plt.title('Average prep and cooking times by course')\n",
    "plt.show()"
   ]
  },
  {
   "cell_type": "code",
   "execution_count": 29,
   "metadata": {},
   "outputs": [],
   "source": [
    "region_time_flavour = food.pivot_table(values = ['prep_time', 'cook_time'], index = 'flavour_profile', aggfunc = np.mean)"
   ]
  },
  {
   "cell_type": "code",
   "execution_count": 30,
   "metadata": {},
   "outputs": [
    {
     "data": {
      "text/html": [
       "<div>\n",
       "<style scoped>\n",
       "    .dataframe tbody tr th:only-of-type {\n",
       "        vertical-align: middle;\n",
       "    }\n",
       "\n",
       "    .dataframe tbody tr th {\n",
       "        vertical-align: top;\n",
       "    }\n",
       "\n",
       "    .dataframe thead th {\n",
       "        text-align: right;\n",
       "    }\n",
       "</style>\n",
       "<table border=\"1\" class=\"dataframe\">\n",
       "  <thead>\n",
       "    <tr style=\"text-align: right;\">\n",
       "      <th></th>\n",
       "      <th>cook_time</th>\n",
       "      <th>prep_time</th>\n",
       "    </tr>\n",
       "    <tr>\n",
       "      <th>flavour_profile</th>\n",
       "      <th></th>\n",
       "      <th></th>\n",
       "    </tr>\n",
       "  </thead>\n",
       "  <tbody>\n",
       "    <tr>\n",
       "      <th>bitter</th>\n",
       "      <td>37.500000</td>\n",
       "      <td>15.000000</td>\n",
       "    </tr>\n",
       "    <tr>\n",
       "      <th>sour</th>\n",
       "      <td>10.000000</td>\n",
       "      <td>10.000000</td>\n",
       "    </tr>\n",
       "    <tr>\n",
       "      <th>spicy</th>\n",
       "      <td>35.543103</td>\n",
       "      <td>37.327586</td>\n",
       "    </tr>\n",
       "    <tr>\n",
       "      <th>sweet</th>\n",
       "      <td>47.439024</td>\n",
       "      <td>31.337500</td>\n",
       "    </tr>\n",
       "  </tbody>\n",
       "</table>\n",
       "</div>"
      ],
      "text/plain": [
       "                 cook_time  prep_time\n",
       "flavour_profile                      \n",
       "bitter           37.500000  15.000000\n",
       "sour             10.000000  10.000000\n",
       "spicy            35.543103  37.327586\n",
       "sweet            47.439024  31.337500"
      ]
     },
     "execution_count": 30,
     "metadata": {},
     "output_type": "execute_result"
    }
   ],
   "source": [
    "region_time_flavour"
   ]
  },
  {
   "cell_type": "code",
   "execution_count": 31,
   "metadata": {},
   "outputs": [
    {
     "data": {
      "image/png": "[encoded data removed]",
      "text/plain": [
       "<Figure size 1080x576 with 1 Axes>"
      ]
     },
     "metadata": {
      "needs_background": "light"
     },
     "output_type": "display_data"
    }
   ],
   "source": [
    "region_time_flavour.plot(kind = 'bar', stacked = True)\n",
    "plt.title('Average prep and cooking times by flavour type')\n",
    "plt.show()"
   ]
  },
  {
   "cell_type": "code",
   "execution_count": null,
   "metadata": {},
   "outputs": [],
   "source": []
  },
  {
   "cell_type": "code",
   "execution_count": null,
   "metadata": {},
   "outputs": [],
   "source": []
  },
  {
   "cell_type": "code",
   "execution_count": null,
   "metadata": {},
   "outputs": [],
   "source": []
  },
  {
   "cell_type": "code",
   "execution_count": 32,
   "metadata": {
    "scrolled": false
   },
   "outputs": [
    {
     "data": {
      "image/png": "[encoded data removed]",
      "text/plain": [
       "<Figure size 1080x576 with 1 Axes>"
      ]
     },
     "metadata": {
      "needs_background": "light"
     },
     "output_type": "display_data"
    }
   ],
   "source": [
    "sns.countplot(food.state)\n",
    "plt.xticks(rotation = 90)\n",
    "plt.title('Count of state type')\n",
    "plt.show()"
   ]
  },
  {
   "cell_type": "code",
   "execution_count": 33,
   "metadata": {},
   "outputs": [
    {
     "data": {
      "image/png": "[encoded data removed]",
      "text/plain": [
       "<Figure size 1080x576 with 1 Axes>"
      ]
     },
     "metadata": {
      "needs_background": "light"
     },
     "output_type": "display_data"
    }
   ],
   "source": [
    "food.prep_time.plot(kind = 'area')\n",
    "plt.title('Preperation Time')\n",
    "plt.show()"
   ]
  },
  {
   "cell_type": "code",
   "execution_count": 34,
   "metadata": {},
   "outputs": [
    {
     "data": {
      "image/png": "[encoded data removed]",
      "text/plain": [
       "<Figure size 1080x576 with 1 Axes>"
      ]
     },
     "metadata": {
      "needs_background": "light"
     },
     "output_type": "display_data"
    }
   ],
   "source": [
    "food.cook_time.plot(kind = 'area')\n",
    "plt.title('Cooking Time')\n",
    "plt.show()"
   ]
  },
  {
   "cell_type": "code",
   "execution_count": 35,
   "metadata": {},
   "outputs": [
    {
     "data": {
      "text/html": [
       "<style  type=\"text/css\" >\n",
       "    #T_d0ba0f47_151c_11eb_a7a7_2c4d5499fbf1row0_col0 {\n",
       "            width:  10em;\n",
       "             height:  80%;\n",
       "        }    #T_d0ba0f47_151c_11eb_a7a7_2c4d5499fbf1row0_col1 {\n",
       "            width:  10em;\n",
       "             height:  80%;\n",
       "            background:  linear-gradient(90deg,gold 28.6%, transparent 28.6%);\n",
       "        }    #T_d0ba0f47_151c_11eb_a7a7_2c4d5499fbf1row1_col0 {\n",
       "            width:  10em;\n",
       "             height:  80%;\n",
       "            background:  linear-gradient(90deg,gold 100.0%, transparent 100.0%);\n",
       "        }    #T_d0ba0f47_151c_11eb_a7a7_2c4d5499fbf1row1_col1 {\n",
       "            width:  10em;\n",
       "             height:  80%;\n",
       "            background:  linear-gradient(90deg,gold 31.4%, transparent 31.4%);\n",
       "        }    #T_d0ba0f47_151c_11eb_a7a7_2c4d5499fbf1row2_col0 {\n",
       "            width:  10em;\n",
       "             height:  80%;\n",
       "        }    #T_d0ba0f47_151c_11eb_a7a7_2c4d5499fbf1row2_col1 {\n",
       "            width:  10em;\n",
       "             height:  80%;\n",
       "            background:  linear-gradient(90deg,gold 8.6%, transparent 8.6%);\n",
       "        }    #T_d0ba0f47_151c_11eb_a7a7_2c4d5499fbf1row3_col0 {\n",
       "            width:  10em;\n",
       "             height:  80%;\n",
       "        }    #T_d0ba0f47_151c_11eb_a7a7_2c4d5499fbf1row3_col1 {\n",
       "            width:  10em;\n",
       "             height:  80%;\n",
       "            background:  linear-gradient(90deg,gold 2.9%, transparent 2.9%);\n",
       "        }    #T_d0ba0f47_151c_11eb_a7a7_2c4d5499fbf1row4_col0 {\n",
       "            width:  10em;\n",
       "             height:  80%;\n",
       "            background:  linear-gradient(90deg,gold 10.0%, transparent 10.0%);\n",
       "        }    #T_d0ba0f47_151c_11eb_a7a7_2c4d5499fbf1row4_col1 {\n",
       "            width:  10em;\n",
       "             height:  80%;\n",
       "            background:  linear-gradient(90deg,gold 5.7%, transparent 5.7%);\n",
       "        }    #T_d0ba0f47_151c_11eb_a7a7_2c4d5499fbf1row5_col0 {\n",
       "            width:  10em;\n",
       "             height:  80%;\n",
       "        }    #T_d0ba0f47_151c_11eb_a7a7_2c4d5499fbf1row5_col1 {\n",
       "            width:  10em;\n",
       "             height:  80%;\n",
       "            background:  linear-gradient(90deg,gold 100.0%, transparent 100.0%);\n",
       "        }    #T_d0ba0f47_151c_11eb_a7a7_2c4d5499fbf1row6_col0 {\n",
       "            width:  10em;\n",
       "             height:  80%;\n",
       "        }    #T_d0ba0f47_151c_11eb_a7a7_2c4d5499fbf1row6_col1 {\n",
       "            width:  10em;\n",
       "             height:  80%;\n",
       "            background:  linear-gradient(90deg,gold 2.9%, transparent 2.9%);\n",
       "        }    #T_d0ba0f47_151c_11eb_a7a7_2c4d5499fbf1row7_col0 {\n",
       "            width:  10em;\n",
       "             height:  80%;\n",
       "        }    #T_d0ba0f47_151c_11eb_a7a7_2c4d5499fbf1row7_col1 {\n",
       "            width:  10em;\n",
       "             height:  80%;\n",
       "            background:  linear-gradient(90deg,gold 5.7%, transparent 5.7%);\n",
       "        }    #T_d0ba0f47_151c_11eb_a7a7_2c4d5499fbf1row8_col0 {\n",
       "            width:  10em;\n",
       "             height:  80%;\n",
       "        }    #T_d0ba0f47_151c_11eb_a7a7_2c4d5499fbf1row8_col1 {\n",
       "            width:  10em;\n",
       "             height:  80%;\n",
       "            background:  linear-gradient(90deg,gold 17.1%, transparent 17.1%);\n",
       "        }    #T_d0ba0f47_151c_11eb_a7a7_2c4d5499fbf1row9_col0 {\n",
       "            width:  10em;\n",
       "             height:  80%;\n",
       "            background:  linear-gradient(90deg,gold 10.0%, transparent 10.0%);\n",
       "        }    #T_d0ba0f47_151c_11eb_a7a7_2c4d5499fbf1row9_col1 {\n",
       "            width:  10em;\n",
       "             height:  80%;\n",
       "            background:  linear-gradient(90deg,gold 20.0%, transparent 20.0%);\n",
       "        }    #T_d0ba0f47_151c_11eb_a7a7_2c4d5499fbf1row10_col0 {\n",
       "            width:  10em;\n",
       "             height:  80%;\n",
       "        }    #T_d0ba0f47_151c_11eb_a7a7_2c4d5499fbf1row10_col1 {\n",
       "            width:  10em;\n",
       "             height:  80%;\n",
       "            background:  linear-gradient(90deg,gold 5.7%, transparent 5.7%);\n",
       "        }    #T_d0ba0f47_151c_11eb_a7a7_2c4d5499fbf1row11_col0 {\n",
       "            width:  10em;\n",
       "             height:  80%;\n",
       "            background:  linear-gradient(90deg,gold 20.0%, transparent 20.0%);\n",
       "        }    #T_d0ba0f47_151c_11eb_a7a7_2c4d5499fbf1row11_col1 {\n",
       "            width:  10em;\n",
       "             height:  80%;\n",
       "            background:  linear-gradient(90deg,gold 80.0%, transparent 80.0%);\n",
       "        }    #T_d0ba0f47_151c_11eb_a7a7_2c4d5499fbf1row12_col0 {\n",
       "            width:  10em;\n",
       "             height:  80%;\n",
       "            background:  linear-gradient(90deg,gold 10.0%, transparent 10.0%);\n",
       "        }    #T_d0ba0f47_151c_11eb_a7a7_2c4d5499fbf1row12_col1 {\n",
       "            width:  10em;\n",
       "             height:  80%;\n",
       "            background:  linear-gradient(90deg,gold 2.9%, transparent 2.9%);\n",
       "        }    #T_d0ba0f47_151c_11eb_a7a7_2c4d5499fbf1row13_col0 {\n",
       "            width:  10em;\n",
       "             height:  80%;\n",
       "            background:  linear-gradient(90deg,gold 10.0%, transparent 10.0%);\n",
       "        }    #T_d0ba0f47_151c_11eb_a7a7_2c4d5499fbf1row13_col1 {\n",
       "            width:  10em;\n",
       "             height:  80%;\n",
       "        }    #T_d0ba0f47_151c_11eb_a7a7_2c4d5499fbf1row14_col0 {\n",
       "            width:  10em;\n",
       "             height:  80%;\n",
       "            background:  linear-gradient(90deg,gold 10.0%, transparent 10.0%);\n",
       "        }    #T_d0ba0f47_151c_11eb_a7a7_2c4d5499fbf1row14_col1 {\n",
       "            width:  10em;\n",
       "             height:  80%;\n",
       "        }    #T_d0ba0f47_151c_11eb_a7a7_2c4d5499fbf1row15_col0 {\n",
       "            width:  10em;\n",
       "             height:  80%;\n",
       "        }    #T_d0ba0f47_151c_11eb_a7a7_2c4d5499fbf1row15_col1 {\n",
       "            width:  10em;\n",
       "             height:  80%;\n",
       "            background:  linear-gradient(90deg,gold 20.0%, transparent 20.0%);\n",
       "        }    #T_d0ba0f47_151c_11eb_a7a7_2c4d5499fbf1row16_col0 {\n",
       "            width:  10em;\n",
       "             height:  80%;\n",
       "            background:  linear-gradient(90deg,gold 40.0%, transparent 40.0%);\n",
       "        }    #T_d0ba0f47_151c_11eb_a7a7_2c4d5499fbf1row16_col1 {\n",
       "            width:  10em;\n",
       "             height:  80%;\n",
       "            background:  linear-gradient(90deg,gold 80.0%, transparent 80.0%);\n",
       "        }    #T_d0ba0f47_151c_11eb_a7a7_2c4d5499fbf1row17_col0 {\n",
       "            width:  10em;\n",
       "             height:  80%;\n",
       "        }    #T_d0ba0f47_151c_11eb_a7a7_2c4d5499fbf1row17_col1 {\n",
       "            width:  10em;\n",
       "             height:  80%;\n",
       "            background:  linear-gradient(90deg,gold 17.1%, transparent 17.1%);\n",
       "        }    #T_d0ba0f47_151c_11eb_a7a7_2c4d5499fbf1row18_col0 {\n",
       "            width:  10em;\n",
       "             height:  80%;\n",
       "            background:  linear-gradient(90deg,gold 10.0%, transparent 10.0%);\n",
       "        }    #T_d0ba0f47_151c_11eb_a7a7_2c4d5499fbf1row18_col1 {\n",
       "            width:  10em;\n",
       "             height:  80%;\n",
       "            background:  linear-gradient(90deg,gold 54.3%, transparent 54.3%);\n",
       "        }    #T_d0ba0f47_151c_11eb_a7a7_2c4d5499fbf1row19_col0 {\n",
       "            width:  10em;\n",
       "             height:  80%;\n",
       "            background:  linear-gradient(90deg,gold 10.0%, transparent 10.0%);\n",
       "        }    #T_d0ba0f47_151c_11eb_a7a7_2c4d5499fbf1row19_col1 {\n",
       "            width:  10em;\n",
       "             height:  80%;\n",
       "            background:  linear-gradient(90deg,gold 11.4%, transparent 11.4%);\n",
       "        }    #T_d0ba0f47_151c_11eb_a7a7_2c4d5499fbf1row20_col0 {\n",
       "            width:  10em;\n",
       "             height:  80%;\n",
       "            background:  linear-gradient(90deg,gold 10.0%, transparent 10.0%);\n",
       "        }    #T_d0ba0f47_151c_11eb_a7a7_2c4d5499fbf1row20_col1 {\n",
       "            width:  10em;\n",
       "             height:  80%;\n",
       "        }    #T_d0ba0f47_151c_11eb_a7a7_2c4d5499fbf1row21_col0 {\n",
       "            width:  10em;\n",
       "             height:  80%;\n",
       "        }    #T_d0ba0f47_151c_11eb_a7a7_2c4d5499fbf1row21_col1 {\n",
       "            width:  10em;\n",
       "             height:  80%;\n",
       "            background:  linear-gradient(90deg,gold 25.7%, transparent 25.7%);\n",
       "        }    #T_d0ba0f47_151c_11eb_a7a7_2c4d5499fbf1row22_col0 {\n",
       "            width:  10em;\n",
       "             height:  80%;\n",
       "        }    #T_d0ba0f47_151c_11eb_a7a7_2c4d5499fbf1row22_col1 {\n",
       "            width:  10em;\n",
       "             height:  80%;\n",
       "            background:  linear-gradient(90deg,gold 2.9%, transparent 2.9%);\n",
       "        }    #T_d0ba0f47_151c_11eb_a7a7_2c4d5499fbf1row23_col0 {\n",
       "            width:  10em;\n",
       "             height:  80%;\n",
       "            background:  linear-gradient(90deg,gold 50.0%, transparent 50.0%);\n",
       "        }    #T_d0ba0f47_151c_11eb_a7a7_2c4d5499fbf1row23_col1 {\n",
       "            width:  10em;\n",
       "             height:  80%;\n",
       "            background:  linear-gradient(90deg,gold 54.3%, transparent 54.3%);\n",
       "        }</style><table id=\"T_d0ba0f47_151c_11eb_a7a7_2c4d5499fbf1\" ><thead>    <tr>        <th class=\"index_name level0\" >diet</th>        <th class=\"col_heading level0 col0\" >non vegetarian</th>        <th class=\"col_heading level0 col1\" >vegetarian</th>    </tr>    <tr>        <th class=\"index_name level0\" >state</th>        <th class=\"blank\" ></th>        <th class=\"blank\" ></th>    </tr></thead><tbody>\n",
       "                <tr>\n",
       "                        <th id=\"T_d0ba0f47_151c_11eb_a7a7_2c4d5499fbf1level0_row0\" class=\"row_heading level0 row0\" >Andhra Pradesh</th>\n",
       "                        <td id=\"T_d0ba0f47_151c_11eb_a7a7_2c4d5499fbf1row0_col0\" class=\"data row0 col0\" >0</td>\n",
       "                        <td id=\"T_d0ba0f47_151c_11eb_a7a7_2c4d5499fbf1row0_col1\" class=\"data row0 col1\" >10</td>\n",
       "            </tr>\n",
       "            <tr>\n",
       "                        <th id=\"T_d0ba0f47_151c_11eb_a7a7_2c4d5499fbf1level0_row1\" class=\"row_heading level0 row1\" >Assam</th>\n",
       "                        <td id=\"T_d0ba0f47_151c_11eb_a7a7_2c4d5499fbf1row1_col0\" class=\"data row1 col0\" >10</td>\n",
       "                        <td id=\"T_d0ba0f47_151c_11eb_a7a7_2c4d5499fbf1row1_col1\" class=\"data row1 col1\" >11</td>\n",
       "            </tr>\n",
       "            <tr>\n",
       "                        <th id=\"T_d0ba0f47_151c_11eb_a7a7_2c4d5499fbf1level0_row2\" class=\"row_heading level0 row2\" >Bihar</th>\n",
       "                        <td id=\"T_d0ba0f47_151c_11eb_a7a7_2c4d5499fbf1row2_col0\" class=\"data row2 col0\" >0</td>\n",
       "                        <td id=\"T_d0ba0f47_151c_11eb_a7a7_2c4d5499fbf1row2_col1\" class=\"data row2 col1\" >3</td>\n",
       "            </tr>\n",
       "            <tr>\n",
       "                        <th id=\"T_d0ba0f47_151c_11eb_a7a7_2c4d5499fbf1level0_row3\" class=\"row_heading level0 row3\" >Chhattisgarh</th>\n",
       "                        <td id=\"T_d0ba0f47_151c_11eb_a7a7_2c4d5499fbf1row3_col0\" class=\"data row3 col0\" >0</td>\n",
       "                        <td id=\"T_d0ba0f47_151c_11eb_a7a7_2c4d5499fbf1row3_col1\" class=\"data row3 col1\" >1</td>\n",
       "            </tr>\n",
       "            <tr>\n",
       "                        <th id=\"T_d0ba0f47_151c_11eb_a7a7_2c4d5499fbf1level0_row4\" class=\"row_heading level0 row4\" >Goa</th>\n",
       "                        <td id=\"T_d0ba0f47_151c_11eb_a7a7_2c4d5499fbf1row4_col0\" class=\"data row4 col0\" >1</td>\n",
       "                        <td id=\"T_d0ba0f47_151c_11eb_a7a7_2c4d5499fbf1row4_col1\" class=\"data row4 col1\" >2</td>\n",
       "            </tr>\n",
       "            <tr>\n",
       "                        <th id=\"T_d0ba0f47_151c_11eb_a7a7_2c4d5499fbf1level0_row5\" class=\"row_heading level0 row5\" >Gujarat</th>\n",
       "                        <td id=\"T_d0ba0f47_151c_11eb_a7a7_2c4d5499fbf1row5_col0\" class=\"data row5 col0\" >0</td>\n",
       "                        <td id=\"T_d0ba0f47_151c_11eb_a7a7_2c4d5499fbf1row5_col1\" class=\"data row5 col1\" >35</td>\n",
       "            </tr>\n",
       "            <tr>\n",
       "                        <th id=\"T_d0ba0f47_151c_11eb_a7a7_2c4d5499fbf1level0_row6\" class=\"row_heading level0 row6\" >Haryana</th>\n",
       "                        <td id=\"T_d0ba0f47_151c_11eb_a7a7_2c4d5499fbf1row6_col0\" class=\"data row6 col0\" >0</td>\n",
       "                        <td id=\"T_d0ba0f47_151c_11eb_a7a7_2c4d5499fbf1row6_col1\" class=\"data row6 col1\" >1</td>\n",
       "            </tr>\n",
       "            <tr>\n",
       "                        <th id=\"T_d0ba0f47_151c_11eb_a7a7_2c4d5499fbf1level0_row7\" class=\"row_heading level0 row7\" >Jammu & Kashmir</th>\n",
       "                        <td id=\"T_d0ba0f47_151c_11eb_a7a7_2c4d5499fbf1row7_col0\" class=\"data row7 col0\" >0</td>\n",
       "                        <td id=\"T_d0ba0f47_151c_11eb_a7a7_2c4d5499fbf1row7_col1\" class=\"data row7 col1\" >2</td>\n",
       "            </tr>\n",
       "            <tr>\n",
       "                        <th id=\"T_d0ba0f47_151c_11eb_a7a7_2c4d5499fbf1level0_row8\" class=\"row_heading level0 row8\" >Karnataka</th>\n",
       "                        <td id=\"T_d0ba0f47_151c_11eb_a7a7_2c4d5499fbf1row8_col0\" class=\"data row8 col0\" >0</td>\n",
       "                        <td id=\"T_d0ba0f47_151c_11eb_a7a7_2c4d5499fbf1row8_col1\" class=\"data row8 col1\" >6</td>\n",
       "            </tr>\n",
       "            <tr>\n",
       "                        <th id=\"T_d0ba0f47_151c_11eb_a7a7_2c4d5499fbf1level0_row9\" class=\"row_heading level0 row9\" >Kerala</th>\n",
       "                        <td id=\"T_d0ba0f47_151c_11eb_a7a7_2c4d5499fbf1row9_col0\" class=\"data row9 col0\" >1</td>\n",
       "                        <td id=\"T_d0ba0f47_151c_11eb_a7a7_2c4d5499fbf1row9_col1\" class=\"data row9 col1\" >7</td>\n",
       "            </tr>\n",
       "            <tr>\n",
       "                        <th id=\"T_d0ba0f47_151c_11eb_a7a7_2c4d5499fbf1level0_row10\" class=\"row_heading level0 row10\" >Madhya Pradesh</th>\n",
       "                        <td id=\"T_d0ba0f47_151c_11eb_a7a7_2c4d5499fbf1row10_col0\" class=\"data row10 col0\" >0</td>\n",
       "                        <td id=\"T_d0ba0f47_151c_11eb_a7a7_2c4d5499fbf1row10_col1\" class=\"data row10 col1\" >2</td>\n",
       "            </tr>\n",
       "            <tr>\n",
       "                        <th id=\"T_d0ba0f47_151c_11eb_a7a7_2c4d5499fbf1level0_row11\" class=\"row_heading level0 row11\" >Maharashtra</th>\n",
       "                        <td id=\"T_d0ba0f47_151c_11eb_a7a7_2c4d5499fbf1row11_col0\" class=\"data row11 col0\" >2</td>\n",
       "                        <td id=\"T_d0ba0f47_151c_11eb_a7a7_2c4d5499fbf1row11_col1\" class=\"data row11 col1\" >28</td>\n",
       "            </tr>\n",
       "            <tr>\n",
       "                        <th id=\"T_d0ba0f47_151c_11eb_a7a7_2c4d5499fbf1level0_row12\" class=\"row_heading level0 row12\" >Manipur</th>\n",
       "                        <td id=\"T_d0ba0f47_151c_11eb_a7a7_2c4d5499fbf1row12_col0\" class=\"data row12 col0\" >1</td>\n",
       "                        <td id=\"T_d0ba0f47_151c_11eb_a7a7_2c4d5499fbf1row12_col1\" class=\"data row12 col1\" >1</td>\n",
       "            </tr>\n",
       "            <tr>\n",
       "                        <th id=\"T_d0ba0f47_151c_11eb_a7a7_2c4d5499fbf1level0_row13\" class=\"row_heading level0 row13\" >NCT of Delhi</th>\n",
       "                        <td id=\"T_d0ba0f47_151c_11eb_a7a7_2c4d5499fbf1row13_col0\" class=\"data row13 col0\" >1</td>\n",
       "                        <td id=\"T_d0ba0f47_151c_11eb_a7a7_2c4d5499fbf1row13_col1\" class=\"data row13 col1\" >0</td>\n",
       "            </tr>\n",
       "            <tr>\n",
       "                        <th id=\"T_d0ba0f47_151c_11eb_a7a7_2c4d5499fbf1level0_row14\" class=\"row_heading level0 row14\" >Nagaland</th>\n",
       "                        <td id=\"T_d0ba0f47_151c_11eb_a7a7_2c4d5499fbf1row14_col0\" class=\"data row14 col0\" >1</td>\n",
       "                        <td id=\"T_d0ba0f47_151c_11eb_a7a7_2c4d5499fbf1row14_col1\" class=\"data row14 col1\" >0</td>\n",
       "            </tr>\n",
       "            <tr>\n",
       "                        <th id=\"T_d0ba0f47_151c_11eb_a7a7_2c4d5499fbf1level0_row15\" class=\"row_heading level0 row15\" >Odisha</th>\n",
       "                        <td id=\"T_d0ba0f47_151c_11eb_a7a7_2c4d5499fbf1row15_col0\" class=\"data row15 col0\" >0</td>\n",
       "                        <td id=\"T_d0ba0f47_151c_11eb_a7a7_2c4d5499fbf1row15_col1\" class=\"data row15 col1\" >7</td>\n",
       "            </tr>\n",
       "            <tr>\n",
       "                        <th id=\"T_d0ba0f47_151c_11eb_a7a7_2c4d5499fbf1level0_row16\" class=\"row_heading level0 row16\" >Punjab</th>\n",
       "                        <td id=\"T_d0ba0f47_151c_11eb_a7a7_2c4d5499fbf1row16_col0\" class=\"data row16 col0\" >4</td>\n",
       "                        <td id=\"T_d0ba0f47_151c_11eb_a7a7_2c4d5499fbf1row16_col1\" class=\"data row16 col1\" >28</td>\n",
       "            </tr>\n",
       "            <tr>\n",
       "                        <th id=\"T_d0ba0f47_151c_11eb_a7a7_2c4d5499fbf1level0_row17\" class=\"row_heading level0 row17\" >Rajasthan</th>\n",
       "                        <td id=\"T_d0ba0f47_151c_11eb_a7a7_2c4d5499fbf1row17_col0\" class=\"data row17 col0\" >0</td>\n",
       "                        <td id=\"T_d0ba0f47_151c_11eb_a7a7_2c4d5499fbf1row17_col1\" class=\"data row17 col1\" >6</td>\n",
       "            </tr>\n",
       "            <tr>\n",
       "                        <th id=\"T_d0ba0f47_151c_11eb_a7a7_2c4d5499fbf1level0_row18\" class=\"row_heading level0 row18\" >Tamil Nadu</th>\n",
       "                        <td id=\"T_d0ba0f47_151c_11eb_a7a7_2c4d5499fbf1row18_col0\" class=\"data row18 col0\" >1</td>\n",
       "                        <td id=\"T_d0ba0f47_151c_11eb_a7a7_2c4d5499fbf1row18_col1\" class=\"data row18 col1\" >19</td>\n",
       "            </tr>\n",
       "            <tr>\n",
       "                        <th id=\"T_d0ba0f47_151c_11eb_a7a7_2c4d5499fbf1level0_row19\" class=\"row_heading level0 row19\" >Telangana</th>\n",
       "                        <td id=\"T_d0ba0f47_151c_11eb_a7a7_2c4d5499fbf1row19_col0\" class=\"data row19 col0\" >1</td>\n",
       "                        <td id=\"T_d0ba0f47_151c_11eb_a7a7_2c4d5499fbf1row19_col1\" class=\"data row19 col1\" >4</td>\n",
       "            </tr>\n",
       "            <tr>\n",
       "                        <th id=\"T_d0ba0f47_151c_11eb_a7a7_2c4d5499fbf1level0_row20\" class=\"row_heading level0 row20\" >Tripura</th>\n",
       "                        <td id=\"T_d0ba0f47_151c_11eb_a7a7_2c4d5499fbf1row20_col0\" class=\"data row20 col0\" >1</td>\n",
       "                        <td id=\"T_d0ba0f47_151c_11eb_a7a7_2c4d5499fbf1row20_col1\" class=\"data row20 col1\" >0</td>\n",
       "            </tr>\n",
       "            <tr>\n",
       "                        <th id=\"T_d0ba0f47_151c_11eb_a7a7_2c4d5499fbf1level0_row21\" class=\"row_heading level0 row21\" >Uttar Pradesh</th>\n",
       "                        <td id=\"T_d0ba0f47_151c_11eb_a7a7_2c4d5499fbf1row21_col0\" class=\"data row21 col0\" >0</td>\n",
       "                        <td id=\"T_d0ba0f47_151c_11eb_a7a7_2c4d5499fbf1row21_col1\" class=\"data row21 col1\" >9</td>\n",
       "            </tr>\n",
       "            <tr>\n",
       "                        <th id=\"T_d0ba0f47_151c_11eb_a7a7_2c4d5499fbf1level0_row22\" class=\"row_heading level0 row22\" >Uttarakhand</th>\n",
       "                        <td id=\"T_d0ba0f47_151c_11eb_a7a7_2c4d5499fbf1row22_col0\" class=\"data row22 col0\" >0</td>\n",
       "                        <td id=\"T_d0ba0f47_151c_11eb_a7a7_2c4d5499fbf1row22_col1\" class=\"data row22 col1\" >1</td>\n",
       "            </tr>\n",
       "            <tr>\n",
       "                        <th id=\"T_d0ba0f47_151c_11eb_a7a7_2c4d5499fbf1level0_row23\" class=\"row_heading level0 row23\" >West Bengal</th>\n",
       "                        <td id=\"T_d0ba0f47_151c_11eb_a7a7_2c4d5499fbf1row23_col0\" class=\"data row23 col0\" >5</td>\n",
       "                        <td id=\"T_d0ba0f47_151c_11eb_a7a7_2c4d5499fbf1row23_col1\" class=\"data row23 col1\" >19</td>\n",
       "            </tr>\n",
       "    </tbody></table>"
      ],
      "text/plain": [
       "<pandas.io.formats.style.Styler at 0x15c9e0ebe80>"
      ]
     },
     "execution_count": 35,
     "metadata": {},
     "output_type": "execute_result"
    }
   ],
   "source": [
    "pd.crosstab(food.state, food.diet).style.bar(color='gold')"
   ]
  },
  {
   "cell_type": "code",
   "execution_count": 36,
   "metadata": {
    "scrolled": false
   },
   "outputs": [
    {
     "data": {
      "text/html": [
       "<style  type=\"text/css\" >\n",
       "    #T_d0c18438_151c_11eb_adc3_2c4d5499fbf1row0_col0 {\n",
       "            background-color:  #000000;\n",
       "            color:  #f1f1f1;\n",
       "        }    #T_d0c18438_151c_11eb_adc3_2c4d5499fbf1row0_col1 {\n",
       "            background-color:  #060402;\n",
       "            color:  #f1f1f1;\n",
       "        }    #T_d0c18438_151c_11eb_adc3_2c4d5499fbf1row0_col2 {\n",
       "            background-color:  #090503;\n",
       "            color:  #f1f1f1;\n",
       "        }    #T_d0c18438_151c_11eb_adc3_2c4d5499fbf1row0_col3 {\n",
       "            background-color:  #000000;\n",
       "            color:  #f1f1f1;\n",
       "        }    #T_d0c18438_151c_11eb_adc3_2c4d5499fbf1row1_col0 {\n",
       "            background-color:  #000000;\n",
       "            color:  #f1f1f1;\n",
       "        }    #T_d0c18438_151c_11eb_adc3_2c4d5499fbf1row1_col1 {\n",
       "            background-color:  #000000;\n",
       "            color:  #f1f1f1;\n",
       "        }    #T_d0c18438_151c_11eb_adc3_2c4d5499fbf1row1_col2 {\n",
       "            background-color:  #000000;\n",
       "            color:  #f1f1f1;\n",
       "        }    #T_d0c18438_151c_11eb_adc3_2c4d5499fbf1row1_col3 {\n",
       "            background-color:  #000000;\n",
       "            color:  #f1f1f1;\n",
       "        }    #T_d0c18438_151c_11eb_adc3_2c4d5499fbf1row2_col0 {\n",
       "            background-color:  #000000;\n",
       "            color:  #f1f1f1;\n",
       "        }    #T_d0c18438_151c_11eb_adc3_2c4d5499fbf1row2_col1 {\n",
       "            background-color:  #ffc77f;\n",
       "            color:  #000000;\n",
       "        }    #T_d0c18438_151c_11eb_adc3_2c4d5499fbf1row2_col2 {\n",
       "            background-color:  #ffc77f;\n",
       "            color:  #000000;\n",
       "        }    #T_d0c18438_151c_11eb_adc3_2c4d5499fbf1row2_col3 {\n",
       "            background-color:  #ffc77f;\n",
       "            color:  #000000;\n",
       "        }    #T_d0c18438_151c_11eb_adc3_2c4d5499fbf1row3_col0 {\n",
       "            background-color:  #ffc77f;\n",
       "            color:  #000000;\n",
       "        }    #T_d0c18438_151c_11eb_adc3_2c4d5499fbf1row3_col1 {\n",
       "            background-color:  #060402;\n",
       "            color:  #f1f1f1;\n",
       "        }    #T_d0c18438_151c_11eb_adc3_2c4d5499fbf1row3_col2 {\n",
       "            background-color:  #000000;\n",
       "            color:  #f1f1f1;\n",
       "        }    #T_d0c18438_151c_11eb_adc3_2c4d5499fbf1row3_col3 {\n",
       "            background-color:  #000000;\n",
       "            color:  #f1f1f1;\n",
       "        }</style><table id=\"T_d0c18438_151c_11eb_adc3_2c4d5499fbf1\" ><thead>    <tr>        <th class=\"index_name level0\" >course</th>        <th class=\"col_heading level0 col0\" >dessert</th>        <th class=\"col_heading level0 col1\" >main course</th>        <th class=\"col_heading level0 col2\" >snack</th>        <th class=\"col_heading level0 col3\" >starter</th>    </tr>    <tr>        <th class=\"index_name level0\" >flavour_profile</th>        <th class=\"blank\" ></th>        <th class=\"blank\" ></th>        <th class=\"blank\" ></th>        <th class=\"blank\" ></th>    </tr></thead><tbody>\n",
       "                <tr>\n",
       "                        <th id=\"T_d0c18438_151c_11eb_adc3_2c4d5499fbf1level0_row0\" class=\"row_heading level0 row0\" >bitter</th>\n",
       "                        <td id=\"T_d0c18438_151c_11eb_adc3_2c4d5499fbf1row0_col0\" class=\"data row0 col0\" >0</td>\n",
       "                        <td id=\"T_d0c18438_151c_11eb_adc3_2c4d5499fbf1row0_col1\" class=\"data row0 col1\" >3</td>\n",
       "                        <td id=\"T_d0c18438_151c_11eb_adc3_2c4d5499fbf1row0_col2\" class=\"data row0 col2\" >1</td>\n",
       "                        <td id=\"T_d0c18438_151c_11eb_adc3_2c4d5499fbf1row0_col3\" class=\"data row0 col3\" >0</td>\n",
       "            </tr>\n",
       "            <tr>\n",
       "                        <th id=\"T_d0c18438_151c_11eb_adc3_2c4d5499fbf1level0_row1\" class=\"row_heading level0 row1\" >sour</th>\n",
       "                        <td id=\"T_d0c18438_151c_11eb_adc3_2c4d5499fbf1row1_col0\" class=\"data row1 col0\" >0</td>\n",
       "                        <td id=\"T_d0c18438_151c_11eb_adc3_2c4d5499fbf1row1_col1\" class=\"data row1 col1\" >1</td>\n",
       "                        <td id=\"T_d0c18438_151c_11eb_adc3_2c4d5499fbf1row1_col2\" class=\"data row1 col2\" >0</td>\n",
       "                        <td id=\"T_d0c18438_151c_11eb_adc3_2c4d5499fbf1row1_col3\" class=\"data row1 col3\" >0</td>\n",
       "            </tr>\n",
       "            <tr>\n",
       "                        <th id=\"T_d0c18438_151c_11eb_adc3_2c4d5499fbf1level0_row2\" class=\"row_heading level0 row2\" >spicy</th>\n",
       "                        <td id=\"T_d0c18438_151c_11eb_adc3_2c4d5499fbf1row2_col0\" class=\"data row2 col0\" >0</td>\n",
       "                        <td id=\"T_d0c18438_151c_11eb_adc3_2c4d5499fbf1row2_col1\" class=\"data row2 col1\" >96</td>\n",
       "                        <td id=\"T_d0c18438_151c_11eb_adc3_2c4d5499fbf1row2_col2\" class=\"data row2 col2\" >35</td>\n",
       "                        <td id=\"T_d0c18438_151c_11eb_adc3_2c4d5499fbf1row2_col3\" class=\"data row2 col3\" >2</td>\n",
       "            </tr>\n",
       "            <tr>\n",
       "                        <th id=\"T_d0c18438_151c_11eb_adc3_2c4d5499fbf1level0_row3\" class=\"row_heading level0 row3\" >sweet</th>\n",
       "                        <td id=\"T_d0c18438_151c_11eb_adc3_2c4d5499fbf1row3_col0\" class=\"data row3 col0\" >85</td>\n",
       "                        <td id=\"T_d0c18438_151c_11eb_adc3_2c4d5499fbf1row3_col1\" class=\"data row3 col1\" >3</td>\n",
       "                        <td id=\"T_d0c18438_151c_11eb_adc3_2c4d5499fbf1row3_col2\" class=\"data row3 col2\" >0</td>\n",
       "                        <td id=\"T_d0c18438_151c_11eb_adc3_2c4d5499fbf1row3_col3\" class=\"data row3 col3\" >0</td>\n",
       "            </tr>\n",
       "    </tbody></table>"
      ],
      "text/plain": [
       "<pandas.io.formats.style.Styler at 0x15c9e9398e0>"
      ]
     },
     "execution_count": 36,
     "metadata": {},
     "output_type": "execute_result"
    }
   ],
   "source": [
    "pd.crosstab(food.flavour_profile, food.course).style.background_gradient(cmap='copper')"
   ]
  },
  {
   "cell_type": "code",
   "execution_count": 37,
   "metadata": {},
   "outputs": [
    {
     "data": {
      "text/html": [
       "<style  type=\"text/css\" >\n",
       "    #T_d0c6feb9_151c_11eb_b703_2c4d5499fbf1row0_col0 {\n",
       "            width:  10em;\n",
       "             height:  80%;\n",
       "        }    #T_d0c6feb9_151c_11eb_b703_2c4d5499fbf1row0_col1 {\n",
       "            width:  10em;\n",
       "             height:  80%;\n",
       "            background:  linear-gradient(90deg,gold 83.3%, transparent 83.3%);\n",
       "        }    #T_d0c6feb9_151c_11eb_b703_2c4d5499fbf1row1_col0 {\n",
       "            width:  10em;\n",
       "             height:  80%;\n",
       "            background:  linear-gradient(90deg,gold 100.0%, transparent 100.0%);\n",
       "        }    #T_d0c6feb9_151c_11eb_b703_2c4d5499fbf1row1_col1 {\n",
       "            width:  10em;\n",
       "             height:  80%;\n",
       "            background:  linear-gradient(90deg,gold 100.0%, transparent 100.0%);\n",
       "        }    #T_d0c6feb9_151c_11eb_b703_2c4d5499fbf1row2_col0 {\n",
       "            width:  10em;\n",
       "             height:  80%;\n",
       "        }    #T_d0c6feb9_151c_11eb_b703_2c4d5499fbf1row2_col1 {\n",
       "            width:  10em;\n",
       "             height:  80%;\n",
       "            background:  linear-gradient(90deg,gold 38.2%, transparent 38.2%);\n",
       "        }    #T_d0c6feb9_151c_11eb_b703_2c4d5499fbf1row3_col0 {\n",
       "            width:  10em;\n",
       "             height:  80%;\n",
       "            background:  linear-gradient(90deg,gold 7.4%, transparent 7.4%);\n",
       "        }    #T_d0c6feb9_151c_11eb_b703_2c4d5499fbf1row3_col1 {\n",
       "            width:  10em;\n",
       "             height:  80%;\n",
       "        }</style><table id=\"T_d0c6feb9_151c_11eb_b703_2c4d5499fbf1\" ><thead>    <tr>        <th class=\"index_name level0\" >diet</th>        <th class=\"col_heading level0 col0\" >non vegetarian</th>        <th class=\"col_heading level0 col1\" >vegetarian</th>    </tr>    <tr>        <th class=\"index_name level0\" >course</th>        <th class=\"blank\" ></th>        <th class=\"blank\" ></th>    </tr></thead><tbody>\n",
       "                <tr>\n",
       "                        <th id=\"T_d0c6feb9_151c_11eb_b703_2c4d5499fbf1level0_row0\" class=\"row_heading level0 row0\" >dessert</th>\n",
       "                        <td id=\"T_d0c6feb9_151c_11eb_b703_2c4d5499fbf1row0_col0\" class=\"data row0 col0\" >0</td>\n",
       "                        <td id=\"T_d0c6feb9_151c_11eb_b703_2c4d5499fbf1row0_col1\" class=\"data row0 col1\" >85</td>\n",
       "            </tr>\n",
       "            <tr>\n",
       "                        <th id=\"T_d0c6feb9_151c_11eb_b703_2c4d5499fbf1level0_row1\" class=\"row_heading level0 row1\" >main course</th>\n",
       "                        <td id=\"T_d0c6feb9_151c_11eb_b703_2c4d5499fbf1row1_col0\" class=\"data row1 col0\" >27</td>\n",
       "                        <td id=\"T_d0c6feb9_151c_11eb_b703_2c4d5499fbf1row1_col1\" class=\"data row1 col1\" >102</td>\n",
       "            </tr>\n",
       "            <tr>\n",
       "                        <th id=\"T_d0c6feb9_151c_11eb_b703_2c4d5499fbf1level0_row2\" class=\"row_heading level0 row2\" >snack</th>\n",
       "                        <td id=\"T_d0c6feb9_151c_11eb_b703_2c4d5499fbf1row2_col0\" class=\"data row2 col0\" >0</td>\n",
       "                        <td id=\"T_d0c6feb9_151c_11eb_b703_2c4d5499fbf1row2_col1\" class=\"data row2 col1\" >39</td>\n",
       "            </tr>\n",
       "            <tr>\n",
       "                        <th id=\"T_d0c6feb9_151c_11eb_b703_2c4d5499fbf1level0_row3\" class=\"row_heading level0 row3\" >starter</th>\n",
       "                        <td id=\"T_d0c6feb9_151c_11eb_b703_2c4d5499fbf1row3_col0\" class=\"data row3 col0\" >2</td>\n",
       "                        <td id=\"T_d0c6feb9_151c_11eb_b703_2c4d5499fbf1row3_col1\" class=\"data row3 col1\" >0</td>\n",
       "            </tr>\n",
       "    </tbody></table>"
      ],
      "text/plain": [
       "<pandas.io.formats.style.Styler at 0x15c9e687c40>"
      ]
     },
     "execution_count": 37,
     "metadata": {},
     "output_type": "execute_result"
    }
   ],
   "source": [
    "pd.crosstab(food.course, food.diet).style.bar(color=['gold'])"
   ]
  },
  {
   "cell_type": "code",
   "execution_count": 38,
   "metadata": {},
   "outputs": [
    {
     "data": {
      "text/html": [
       "<style  type=\"text/css\" >\n",
       "    #T_d0d781f6_151c_11eb_93a6_2c4d5499fbf1row0_col0 {\n",
       "            width:  10em;\n",
       "             height:  80%;\n",
       "        }    #T_d0d781f6_151c_11eb_93a6_2c4d5499fbf1row0_col1 {\n",
       "            width:  10em;\n",
       "             height:  80%;\n",
       "        }    #T_d0d781f6_151c_11eb_93a6_2c4d5499fbf1row1_col0 {\n",
       "            width:  10em;\n",
       "             height:  80%;\n",
       "            background:  linear-gradient(90deg,gold 38.5%, transparent 38.5%);\n",
       "        }    #T_d0d781f6_151c_11eb_93a6_2c4d5499fbf1row1_col1 {\n",
       "            width:  10em;\n",
       "             height:  80%;\n",
       "            background:  linear-gradient(90deg,gold 33.8%, transparent 33.8%);\n",
       "        }    #T_d0d781f6_151c_11eb_93a6_2c4d5499fbf1row2_col0 {\n",
       "            width:  10em;\n",
       "             height:  80%;\n",
       "            background:  linear-gradient(90deg,gold 38.5%, transparent 38.5%);\n",
       "        }    #T_d0d781f6_151c_11eb_93a6_2c4d5499fbf1row2_col1 {\n",
       "            width:  10em;\n",
       "             height:  80%;\n",
       "            background:  linear-gradient(90deg,gold 60.3%, transparent 60.3%);\n",
       "        }    #T_d0d781f6_151c_11eb_93a6_2c4d5499fbf1row3_col0 {\n",
       "            width:  10em;\n",
       "             height:  80%;\n",
       "            background:  linear-gradient(90deg,gold 100.0%, transparent 100.0%);\n",
       "        }    #T_d0d781f6_151c_11eb_93a6_2c4d5499fbf1row3_col1 {\n",
       "            width:  10em;\n",
       "             height:  80%;\n",
       "            background:  linear-gradient(90deg,gold 13.2%, transparent 13.2%);\n",
       "        }    #T_d0d781f6_151c_11eb_93a6_2c4d5499fbf1row4_col0 {\n",
       "            width:  10em;\n",
       "             height:  80%;\n",
       "            background:  linear-gradient(90deg,gold 23.1%, transparent 23.1%);\n",
       "        }    #T_d0d781f6_151c_11eb_93a6_2c4d5499fbf1row4_col1 {\n",
       "            width:  10em;\n",
       "             height:  80%;\n",
       "            background:  linear-gradient(90deg,gold 77.9%, transparent 77.9%);\n",
       "        }    #T_d0d781f6_151c_11eb_93a6_2c4d5499fbf1row5_col0 {\n",
       "            width:  10em;\n",
       "             height:  80%;\n",
       "            background:  linear-gradient(90deg,gold 23.1%, transparent 23.1%);\n",
       "        }    #T_d0d781f6_151c_11eb_93a6_2c4d5499fbf1row5_col1 {\n",
       "            width:  10em;\n",
       "             height:  80%;\n",
       "            background:  linear-gradient(90deg,gold 100.0%, transparent 100.0%);\n",
       "        }</style><table id=\"T_d0d781f6_151c_11eb_93a6_2c4d5499fbf1\" ><thead>    <tr>        <th class=\"index_name level0\" >diet</th>        <th class=\"col_heading level0 col0\" >non vegetarian</th>        <th class=\"col_heading level0 col1\" >vegetarian</th>    </tr>    <tr>        <th class=\"index_name level0\" >region</th>        <th class=\"blank\" ></th>        <th class=\"blank\" ></th>    </tr></thead><tbody>\n",
       "                <tr>\n",
       "                        <th id=\"T_d0d781f6_151c_11eb_93a6_2c4d5499fbf1level0_row0\" class=\"row_heading level0 row0\" >Central</th>\n",
       "                        <td id=\"T_d0d781f6_151c_11eb_93a6_2c4d5499fbf1row0_col0\" class=\"data row0 col0\" >0</td>\n",
       "                        <td id=\"T_d0d781f6_151c_11eb_93a6_2c4d5499fbf1row0_col1\" class=\"data row0 col1\" >3</td>\n",
       "            </tr>\n",
       "            <tr>\n",
       "                        <th id=\"T_d0d781f6_151c_11eb_93a6_2c4d5499fbf1level0_row1\" class=\"row_heading level0 row1\" >East</th>\n",
       "                        <td id=\"T_d0d781f6_151c_11eb_93a6_2c4d5499fbf1row1_col0\" class=\"data row1 col0\" >5</td>\n",
       "                        <td id=\"T_d0d781f6_151c_11eb_93a6_2c4d5499fbf1row1_col1\" class=\"data row1 col1\" >26</td>\n",
       "            </tr>\n",
       "            <tr>\n",
       "                        <th id=\"T_d0d781f6_151c_11eb_93a6_2c4d5499fbf1level0_row2\" class=\"row_heading level0 row2\" >North</th>\n",
       "                        <td id=\"T_d0d781f6_151c_11eb_93a6_2c4d5499fbf1row2_col0\" class=\"data row2 col0\" >5</td>\n",
       "                        <td id=\"T_d0d781f6_151c_11eb_93a6_2c4d5499fbf1row2_col1\" class=\"data row2 col1\" >44</td>\n",
       "            </tr>\n",
       "            <tr>\n",
       "                        <th id=\"T_d0d781f6_151c_11eb_93a6_2c4d5499fbf1level0_row3\" class=\"row_heading level0 row3\" >North East</th>\n",
       "                        <td id=\"T_d0d781f6_151c_11eb_93a6_2c4d5499fbf1row3_col0\" class=\"data row3 col0\" >13</td>\n",
       "                        <td id=\"T_d0d781f6_151c_11eb_93a6_2c4d5499fbf1row3_col1\" class=\"data row3 col1\" >12</td>\n",
       "            </tr>\n",
       "            <tr>\n",
       "                        <th id=\"T_d0d781f6_151c_11eb_93a6_2c4d5499fbf1level0_row4\" class=\"row_heading level0 row4\" >South</th>\n",
       "                        <td id=\"T_d0d781f6_151c_11eb_93a6_2c4d5499fbf1row4_col0\" class=\"data row4 col0\" >3</td>\n",
       "                        <td id=\"T_d0d781f6_151c_11eb_93a6_2c4d5499fbf1row4_col1\" class=\"data row4 col1\" >56</td>\n",
       "            </tr>\n",
       "            <tr>\n",
       "                        <th id=\"T_d0d781f6_151c_11eb_93a6_2c4d5499fbf1level0_row5\" class=\"row_heading level0 row5\" >West</th>\n",
       "                        <td id=\"T_d0d781f6_151c_11eb_93a6_2c4d5499fbf1row5_col0\" class=\"data row5 col0\" >3</td>\n",
       "                        <td id=\"T_d0d781f6_151c_11eb_93a6_2c4d5499fbf1row5_col1\" class=\"data row5 col1\" >71</td>\n",
       "            </tr>\n",
       "    </tbody></table>"
      ],
      "text/plain": [
       "<pandas.io.formats.style.Styler at 0x15c9e280df0>"
      ]
     },
     "execution_count": 38,
     "metadata": {},
     "output_type": "execute_result"
    }
   ],
   "source": [
    "pd.crosstab(food.region, food.diet).style.bar(color=['gold'])"
   ]
  },
  {
   "cell_type": "code",
   "execution_count": 39,
   "metadata": {},
   "outputs": [],
   "source": [
    "ingredients = set()\n",
    "for item in food.ingredients:\n",
    "    ingredients.update(str(item).lower().split(\",\"))"
   ]
  },
  {
   "cell_type": "code",
   "execution_count": 40,
   "metadata": {},
   "outputs": [
    {
     "data": {
      "text/plain": [
       "425"
      ]
     },
     "execution_count": 40,
     "metadata": {},
     "output_type": "execute_result"
    }
   ],
   "source": [
    "len(ingredients)"
   ]
  },
  {
   "cell_type": "code",
   "execution_count": 41,
   "metadata": {},
   "outputs": [],
   "source": [
    "def count_ingredient(column):\n",
    "    return len(column.split(\",\"))"
   ]
  },
  {
   "cell_type": "code",
   "execution_count": 42,
   "metadata": {},
   "outputs": [
    {
     "data": {
      "text/html": [
       "<div>\n",
       "<style scoped>\n",
       "    .dataframe tbody tr th:only-of-type {\n",
       "        vertical-align: middle;\n",
       "    }\n",
       "\n",
       "    .dataframe tbody tr th {\n",
       "        vertical-align: top;\n",
       "    }\n",
       "\n",
       "    .dataframe thead th {\n",
       "        text-align: right;\n",
       "    }\n",
       "</style>\n",
       "<table border=\"1\" class=\"dataframe\">\n",
       "  <thead>\n",
       "    <tr style=\"text-align: right;\">\n",
       "      <th></th>\n",
       "      <th>name</th>\n",
       "      <th>ingredients</th>\n",
       "      <th>diet</th>\n",
       "      <th>prep_time</th>\n",
       "      <th>cook_time</th>\n",
       "      <th>flavour_profile</th>\n",
       "      <th>course</th>\n",
       "      <th>state</th>\n",
       "      <th>region</th>\n",
       "      <th>ingredient_count</th>\n",
       "    </tr>\n",
       "  </thead>\n",
       "  <tbody>\n",
       "    <tr>\n",
       "      <th>0</th>\n",
       "      <td>Balu shahi</td>\n",
       "      <td>Maida flour, yogurt, oil, sugar</td>\n",
       "      <td>vegetarian</td>\n",
       "      <td>45.0</td>\n",
       "      <td>25.0</td>\n",
       "      <td>sweet</td>\n",
       "      <td>dessert</td>\n",
       "      <td>West Bengal</td>\n",
       "      <td>East</td>\n",
       "      <td>4</td>\n",
       "    </tr>\n",
       "    <tr>\n",
       "      <th>1</th>\n",
       "      <td>Boondi</td>\n",
       "      <td>Gram flour, ghee, sugar</td>\n",
       "      <td>vegetarian</td>\n",
       "      <td>80.0</td>\n",
       "      <td>30.0</td>\n",
       "      <td>sweet</td>\n",
       "      <td>dessert</td>\n",
       "      <td>Rajasthan</td>\n",
       "      <td>West</td>\n",
       "      <td>3</td>\n",
       "    </tr>\n",
       "    <tr>\n",
       "      <th>2</th>\n",
       "      <td>Gajar ka halwa</td>\n",
       "      <td>Carrots, milk, sugar, ghee, cashews, raisins</td>\n",
       "      <td>vegetarian</td>\n",
       "      <td>15.0</td>\n",
       "      <td>60.0</td>\n",
       "      <td>sweet</td>\n",
       "      <td>dessert</td>\n",
       "      <td>Punjab</td>\n",
       "      <td>North</td>\n",
       "      <td>6</td>\n",
       "    </tr>\n",
       "    <tr>\n",
       "      <th>3</th>\n",
       "      <td>Ghevar</td>\n",
       "      <td>Flour, ghee, kewra, milk, clarified butter, su...</td>\n",
       "      <td>vegetarian</td>\n",
       "      <td>15.0</td>\n",
       "      <td>30.0</td>\n",
       "      <td>sweet</td>\n",
       "      <td>dessert</td>\n",
       "      <td>Rajasthan</td>\n",
       "      <td>West</td>\n",
       "      <td>10</td>\n",
       "    </tr>\n",
       "    <tr>\n",
       "      <th>4</th>\n",
       "      <td>Gulab jamun</td>\n",
       "      <td>Milk powder, plain flour, baking powder, ghee,...</td>\n",
       "      <td>vegetarian</td>\n",
       "      <td>15.0</td>\n",
       "      <td>40.0</td>\n",
       "      <td>sweet</td>\n",
       "      <td>dessert</td>\n",
       "      <td>West Bengal</td>\n",
       "      <td>East</td>\n",
       "      <td>8</td>\n",
       "    </tr>\n",
       "    <tr>\n",
       "      <th>...</th>\n",
       "      <td>...</td>\n",
       "      <td>...</td>\n",
       "      <td>...</td>\n",
       "      <td>...</td>\n",
       "      <td>...</td>\n",
       "      <td>...</td>\n",
       "      <td>...</td>\n",
       "      <td>...</td>\n",
       "      <td>...</td>\n",
       "      <td>...</td>\n",
       "    </tr>\n",
       "    <tr>\n",
       "      <th>250</th>\n",
       "      <td>Til Pitha</td>\n",
       "      <td>Glutinous rice, black sesame seeds, gur</td>\n",
       "      <td>vegetarian</td>\n",
       "      <td>5.0</td>\n",
       "      <td>30.0</td>\n",
       "      <td>sweet</td>\n",
       "      <td>dessert</td>\n",
       "      <td>Assam</td>\n",
       "      <td>North East</td>\n",
       "      <td>3</td>\n",
       "    </tr>\n",
       "    <tr>\n",
       "      <th>251</th>\n",
       "      <td>Bebinca</td>\n",
       "      <td>Coconut milk, egg yolks, clarified butter, all...</td>\n",
       "      <td>vegetarian</td>\n",
       "      <td>20.0</td>\n",
       "      <td>60.0</td>\n",
       "      <td>sweet</td>\n",
       "      <td>dessert</td>\n",
       "      <td>Goa</td>\n",
       "      <td>West</td>\n",
       "      <td>4</td>\n",
       "    </tr>\n",
       "    <tr>\n",
       "      <th>252</th>\n",
       "      <td>Shufta</td>\n",
       "      <td>Cottage cheese, dry dates, dried rose petals, ...</td>\n",
       "      <td>vegetarian</td>\n",
       "      <td>NaN</td>\n",
       "      <td>NaN</td>\n",
       "      <td>sweet</td>\n",
       "      <td>dessert</td>\n",
       "      <td>Jammu &amp; Kashmir</td>\n",
       "      <td>North</td>\n",
       "      <td>5</td>\n",
       "    </tr>\n",
       "    <tr>\n",
       "      <th>253</th>\n",
       "      <td>Mawa Bati</td>\n",
       "      <td>Milk powder, dry fruits, arrowroot powder, all...</td>\n",
       "      <td>vegetarian</td>\n",
       "      <td>20.0</td>\n",
       "      <td>45.0</td>\n",
       "      <td>sweet</td>\n",
       "      <td>dessert</td>\n",
       "      <td>Madhya Pradesh</td>\n",
       "      <td>Central</td>\n",
       "      <td>4</td>\n",
       "    </tr>\n",
       "    <tr>\n",
       "      <th>254</th>\n",
       "      <td>Pinaca</td>\n",
       "      <td>Brown rice, fennel seeds, grated coconut, blac...</td>\n",
       "      <td>vegetarian</td>\n",
       "      <td>NaN</td>\n",
       "      <td>NaN</td>\n",
       "      <td>sweet</td>\n",
       "      <td>dessert</td>\n",
       "      <td>Goa</td>\n",
       "      <td>West</td>\n",
       "      <td>5</td>\n",
       "    </tr>\n",
       "  </tbody>\n",
       "</table>\n",
       "<p>255 rows × 10 columns</p>\n",
       "</div>"
      ],
      "text/plain": [
       "               name                                        ingredients  \\\n",
       "0        Balu shahi                    Maida flour, yogurt, oil, sugar   \n",
       "1            Boondi                            Gram flour, ghee, sugar   \n",
       "2    Gajar ka halwa       Carrots, milk, sugar, ghee, cashews, raisins   \n",
       "3            Ghevar  Flour, ghee, kewra, milk, clarified butter, su...   \n",
       "4       Gulab jamun  Milk powder, plain flour, baking powder, ghee,...   \n",
       "..              ...                                                ...   \n",
       "250       Til Pitha            Glutinous rice, black sesame seeds, gur   \n",
       "251         Bebinca  Coconut milk, egg yolks, clarified butter, all...   \n",
       "252          Shufta  Cottage cheese, dry dates, dried rose petals, ...   \n",
       "253       Mawa Bati  Milk powder, dry fruits, arrowroot powder, all...   \n",
       "254          Pinaca  Brown rice, fennel seeds, grated coconut, blac...   \n",
       "\n",
       "           diet  prep_time  cook_time flavour_profile   course  \\\n",
       "0    vegetarian       45.0       25.0           sweet  dessert   \n",
       "1    vegetarian       80.0       30.0           sweet  dessert   \n",
       "2    vegetarian       15.0       60.0           sweet  dessert   \n",
       "3    vegetarian       15.0       30.0           sweet  dessert   \n",
       "4    vegetarian       15.0       40.0           sweet  dessert   \n",
       "..          ...        ...        ...             ...      ...   \n",
       "250  vegetarian        5.0       30.0           sweet  dessert   \n",
       "251  vegetarian       20.0       60.0           sweet  dessert   \n",
       "252  vegetarian        NaN        NaN           sweet  dessert   \n",
       "253  vegetarian       20.0       45.0           sweet  dessert   \n",
       "254  vegetarian        NaN        NaN           sweet  dessert   \n",
       "\n",
       "               state      region  ingredient_count  \n",
       "0        West Bengal        East                 4  \n",
       "1          Rajasthan        West                 3  \n",
       "2             Punjab       North                 6  \n",
       "3          Rajasthan        West                10  \n",
       "4        West Bengal        East                 8  \n",
       "..               ...         ...               ...  \n",
       "250            Assam  North East                 3  \n",
       "251              Goa        West                 4  \n",
       "252  Jammu & Kashmir       North                 5  \n",
       "253   Madhya Pradesh     Central                 4  \n",
       "254              Goa        West                 5  \n",
       "\n",
       "[255 rows x 10 columns]"
      ]
     },
     "execution_count": 42,
     "metadata": {},
     "output_type": "execute_result"
    }
   ],
   "source": [
    "food_count = food\n",
    "food_count['ingredient_count'] = food_count.ingredients.apply(count_ingredient)\n",
    "food_count"
   ]
  },
  {
   "cell_type": "code",
   "execution_count": 43,
   "metadata": {},
   "outputs": [
    {
     "data": {
      "text/plain": [
       "<matplotlib.axes._subplots.AxesSubplot at 0x15c9f4fa880>"
      ]
     },
     "execution_count": 43,
     "metadata": {},
     "output_type": "execute_result"
    },
    {
     "data": {
      "image/png": "[encoded data removed]",
      "text/plain": [
       "<Figure size 1080x576 with 1 Axes>"
      ]
     },
     "metadata": {
      "needs_background": "light"
     },
     "output_type": "display_data"
    }
   ],
   "source": [
    "sns.scatterplot(data = food_count, x = 'course', y = 'ingredient_count', hue = 'region')"
   ]
  },
  {
   "cell_type": "code",
   "execution_count": 44,
   "metadata": {},
   "outputs": [],
   "source": [
    "region_ingredient_count = food_count.pivot_table(values = 'ingredient_count', index = 'region', aggfunc = np.mean)"
   ]
  },
  {
   "cell_type": "code",
   "execution_count": 45,
   "metadata": {},
   "outputs": [
    {
     "data": {
      "text/html": [
       "<div>\n",
       "<style scoped>\n",
       "    .dataframe tbody tr th:only-of-type {\n",
       "        vertical-align: middle;\n",
       "    }\n",
       "\n",
       "    .dataframe tbody tr th {\n",
       "        vertical-align: top;\n",
       "    }\n",
       "\n",
       "    .dataframe thead th {\n",
       "        text-align: right;\n",
       "    }\n",
       "</style>\n",
       "<table border=\"1\" class=\"dataframe\">\n",
       "  <thead>\n",
       "    <tr style=\"text-align: right;\">\n",
       "      <th></th>\n",
       "      <th>ingredient_count</th>\n",
       "    </tr>\n",
       "    <tr>\n",
       "      <th>region</th>\n",
       "      <th></th>\n",
       "    </tr>\n",
       "  </thead>\n",
       "  <tbody>\n",
       "    <tr>\n",
       "      <th>Central</th>\n",
       "      <td>4.333333</td>\n",
       "    </tr>\n",
       "    <tr>\n",
       "      <th>East</th>\n",
       "      <td>3.935484</td>\n",
       "    </tr>\n",
       "    <tr>\n",
       "      <th>North</th>\n",
       "      <td>4.918367</td>\n",
       "    </tr>\n",
       "    <tr>\n",
       "      <th>North East</th>\n",
       "      <td>4.480000</td>\n",
       "    </tr>\n",
       "    <tr>\n",
       "      <th>South</th>\n",
       "      <td>4.322034</td>\n",
       "    </tr>\n",
       "    <tr>\n",
       "      <th>West</th>\n",
       "      <td>4.445946</td>\n",
       "    </tr>\n",
       "  </tbody>\n",
       "</table>\n",
       "</div>"
      ],
      "text/plain": [
       "            ingredient_count\n",
       "region                      \n",
       "Central             4.333333\n",
       "East                3.935484\n",
       "North               4.918367\n",
       "North East          4.480000\n",
       "South               4.322034\n",
       "West                4.445946"
      ]
     },
     "execution_count": 45,
     "metadata": {},
     "output_type": "execute_result"
    }
   ],
   "source": [
    "region_ingredient_count"
   ]
  },
  {
   "cell_type": "code",
   "execution_count": 54,
   "metadata": {},
   "outputs": [
    {
     "data": {
      "image/png": "[encoded data removed]",
      "text/plain": [
       "<Figure size 1080x576 with 1 Axes>"
      ]
     },
     "metadata": {
      "needs_background": "light"
     },
     "output_type": "display_data"
    }
   ],
   "source": [
    "region_ingredient_count.plot(kind = 'bar', legend = False)\n",
    "plt.title('Average ingredient count per region')\n",
    "plt.show()"
   ]
  },
  {
   "cell_type": "code",
   "execution_count": 49,
   "metadata": {},
   "outputs": [],
   "source": [
    "course_ingredient_count = food_count.pivot_table(values = 'ingredient_count', index = 'course', aggfunc = np.mean)"
   ]
  },
  {
   "cell_type": "code",
   "execution_count": 50,
   "metadata": {},
   "outputs": [
    {
     "data": {
      "text/html": [
       "<div>\n",
       "<style scoped>\n",
       "    .dataframe tbody tr th:only-of-type {\n",
       "        vertical-align: middle;\n",
       "    }\n",
       "\n",
       "    .dataframe tbody tr th {\n",
       "        vertical-align: top;\n",
       "    }\n",
       "\n",
       "    .dataframe thead th {\n",
       "        text-align: right;\n",
       "    }\n",
       "</style>\n",
       "<table border=\"1\" class=\"dataframe\">\n",
       "  <thead>\n",
       "    <tr style=\"text-align: right;\">\n",
       "      <th></th>\n",
       "      <th>ingredient_count</th>\n",
       "    </tr>\n",
       "    <tr>\n",
       "      <th>course</th>\n",
       "      <th></th>\n",
       "    </tr>\n",
       "  </thead>\n",
       "  <tbody>\n",
       "    <tr>\n",
       "      <th>dessert</th>\n",
       "      <td>3.858824</td>\n",
       "    </tr>\n",
       "    <tr>\n",
       "      <th>main course</th>\n",
       "      <td>4.782946</td>\n",
       "    </tr>\n",
       "    <tr>\n",
       "      <th>snack</th>\n",
       "      <td>4.641026</td>\n",
       "    </tr>\n",
       "    <tr>\n",
       "      <th>starter</th>\n",
       "      <td>5.000000</td>\n",
       "    </tr>\n",
       "  </tbody>\n",
       "</table>\n",
       "</div>"
      ],
      "text/plain": [
       "             ingredient_count\n",
       "course                       \n",
       "dessert              3.858824\n",
       "main course          4.782946\n",
       "snack                4.641026\n",
       "starter              5.000000"
      ]
     },
     "execution_count": 50,
     "metadata": {},
     "output_type": "execute_result"
    }
   ],
   "source": [
    "course_ingredient_count"
   ]
  },
  {
   "cell_type": "code",
   "execution_count": 55,
   "metadata": {},
   "outputs": [
    {
     "data": {
      "image/png": "[encoded data removed]",
      "text/plain": [
       "<Figure size 1080x576 with 1 Axes>"
      ]
     },
     "metadata": {
      "needs_background": "light"
     },
     "output_type": "display_data"
    }
   ],
   "source": [
    "course_ingredient_count.plot(kind = 'bar', legend = False)\n",
    "plt.title('Average ingredient count per course')\n",
    "plt.show()"
   ]
  },
  {
   "cell_type": "code",
   "execution_count": 56,
   "metadata": {},
   "outputs": [
    {
     "data": {
      "text/html": [
       "<div>\n",
       "<style scoped>\n",
       "    .dataframe tbody tr th:only-of-type {\n",
       "        vertical-align: middle;\n",
       "    }\n",
       "\n",
       "    .dataframe tbody tr th {\n",
       "        vertical-align: top;\n",
       "    }\n",
       "\n",
       "    .dataframe thead th {\n",
       "        text-align: right;\n",
       "    }\n",
       "</style>\n",
       "<table border=\"1\" class=\"dataframe\">\n",
       "  <thead>\n",
       "    <tr style=\"text-align: right;\">\n",
       "      <th></th>\n",
       "      <th>ingredient_count</th>\n",
       "    </tr>\n",
       "    <tr>\n",
       "      <th>diet</th>\n",
       "      <th></th>\n",
       "    </tr>\n",
       "  </thead>\n",
       "  <tbody>\n",
       "    <tr>\n",
       "      <th>non vegetarian</th>\n",
       "      <td>5.137931</td>\n",
       "    </tr>\n",
       "    <tr>\n",
       "      <th>vegetarian</th>\n",
       "      <td>4.367257</td>\n",
       "    </tr>\n",
       "  </tbody>\n",
       "</table>\n",
       "</div>"
      ],
      "text/plain": [
       "                ingredient_count\n",
       "diet                            \n",
       "non vegetarian          5.137931\n",
       "vegetarian              4.367257"
      ]
     },
     "execution_count": 56,
     "metadata": {},
     "output_type": "execute_result"
    }
   ],
   "source": [
    "diet_ingredient_count = food_count.pivot_table(values = 'ingredient_count', index = 'diet', aggfunc = np.mean)\n",
    "diet_ingredient_count"
   ]
  },
  {
   "cell_type": "code",
   "execution_count": 133,
   "metadata": {},
   "outputs": [
    {
     "data": {
      "image/png": "[encoded data removed]",
      "text/plain": [
       "<Figure size 1080x576 with 1 Axes>"
      ]
     },
     "metadata": {
      "needs_background": "light"
     },
     "output_type": "display_data"
    }
   ],
   "source": [
    "diet_ingredient_count.plot(kind = 'bar', legend = False)\n",
    "plt.title('Average ingredient count per diet')\n",
    "plt.show()"
   ]
  },
  {
   "cell_type": "code",
   "execution_count": 91,
   "metadata": {},
   "outputs": [
    {
     "data": {
      "image/png": "[encoded data removed]",
      "text/plain": [
       "<Figure size 1080x576 with 1 Axes>"
      ]
     },
     "metadata": {
      "needs_background": "light"
     },
     "output_type": "display_data"
    }
   ],
   "source": [
    "total_time = (food.prep_time + food.cook_time).to_frame('total_time').reset_index()\n",
    "plt.hist(total_time.total_time, np.arange(5, 150, 10))\n",
    "plt.title('Total cooking time distribution')\n",
    "plt.xlabel('Time (minutes)')\n",
    "plt.ylabel('Number of recipes')\n",
    "plt.show()"
   ]
  },
  {
   "cell_type": "code",
   "execution_count": 102,
   "metadata": {},
   "outputs": [],
   "source": [
    "ingredients = []\n",
    "for a in food.ingredients.str.lower().values.tolist():\n",
    "    for b in a.split(','):\n",
    "        ingredients.append(b.strip())"
   ]
  },
  {
   "cell_type": "code",
   "execution_count": 103,
   "metadata": {},
   "outputs": [
    {
     "data": {
      "text/plain": [
       "sugar                48\n",
       "ginger               29\n",
       "garam masala         27\n",
       "urad dal             25\n",
       "curry leaves         25\n",
       "                     ..\n",
       "sliced almonds        1\n",
       "bell pepper           1\n",
       "ginger and garlic     1\n",
       "pumpkin flowers       1\n",
       "capsicum              1\n",
       "Length: 365, dtype: int64"
      ]
     },
     "execution_count": 103,
     "metadata": {},
     "output_type": "execute_result"
    }
   ],
   "source": [
    "pd.value_counts(ingredients)"
   ]
  },
  {
   "cell_type": "code",
   "execution_count": 104,
   "metadata": {},
   "outputs": [],
   "source": [
    "ingredient_top10 = pd.value_counts(ingredients)[:10]"
   ]
  },
  {
   "cell_type": "code",
   "execution_count": 105,
   "metadata": {},
   "outputs": [
    {
     "data": {
      "text/plain": [
       "sugar           48\n",
       "ginger          29\n",
       "garam masala    27\n",
       "urad dal        25\n",
       "curry leaves    25\n",
       "ghee            25\n",
       "jaggery         21\n",
       "milk            21\n",
       "rice flour      21\n",
       "chana dal       16\n",
       "dtype: int64"
      ]
     },
     "execution_count": 105,
     "metadata": {},
     "output_type": "execute_result"
    }
   ],
   "source": [
    "ingredient_top10"
   ]
  },
  {
   "cell_type": "code",
   "execution_count": 135,
   "metadata": {},
   "outputs": [
    {
     "data": {
      "text/plain": [
       "<matplotlib.axes._subplots.AxesSubplot at 0x15c9ec4ebb0>"
      ]
     },
     "execution_count": 135,
     "metadata": {},
     "output_type": "execute_result"
    },
    {
     "data": {
      "image/png": "[encoded data removed]",
      "text/plain": [
       "<Figure size 1080x576 with 1 Axes>"
      ]
     },
     "metadata": {
      "needs_background": "light"
     },
     "output_type": "display_data"
    }
   ],
   "source": [
    "ingredient_top10.plot(kind = 'bar', color = ['rosybrown', 'tomato', 'darkorange', 'khaki', 'palegreen', \\\n",
    "                                            'aquamarine', 'skyblue', 'royalblue', 'plum', 'orchid'])"
   ]
  },
  {
   "cell_type": "code",
   "execution_count": 139,
   "metadata": {},
   "outputs": [],
   "source": [
    "def country_plot(meal):\n",
    "    india = gpd.read_file('C:\\\\Users\\\\Nick\\\\Documents\\\\GitHub\\\\Indian_food_project\\\\raw_data\\\\Indian_states.shp')\n",
    "    course = food.course == meal\n",
    "    course_selected = course.state.value_counts().reset_index()\n",
    "    course.columns = ['state','count']\n",
    "    merged = india.set_index('st_nm').join(course_selected.set_index('state'))\n",
    "    f, ax = plt.subplots(1, figsize=(10, 10))\n",
    "    ax.axis('off')\n",
    "    ax.set_title('State-wise Distribution of Indian Sweets',\n",
    "             fontdict={'fontsize': '15', 'fontweight' : '3'})\n",
    "    f = merged.plot(column='count', cmap='Wistia', linewidth=0.5, ax=ax, edgecolor='0.2',legend=True)"
   ]
  },
  {
   "cell_type": "code",
   "execution_count": 140,
   "metadata": {},
   "outputs": [
    {
     "ename": "NameError",
     "evalue": "name 'gpd' is not defined",
     "output_type": "error",
     "traceback": [
      "\u001b[1;31m---------------------------------------------------------------------------\u001b[0m",
      "\u001b[1;31mNameError\u001b[0m                                 Traceback (most recent call last)",
      "\u001b[1;32m<ipython-input-140-905b9151f3e1>\u001b[0m in \u001b[0;36m<module>\u001b[1;34m\u001b[0m\n\u001b[1;32m----> 1\u001b[1;33m \u001b[0mcountry_plot\u001b[0m\u001b[1;33m(\u001b[0m\u001b[1;34m'dessert'\u001b[0m\u001b[1;33m)\u001b[0m\u001b[1;33m\u001b[0m\u001b[1;33m\u001b[0m\u001b[0m\n\u001b[0m",
      "\u001b[1;32m<ipython-input-139-0e08279c7d7b>\u001b[0m in \u001b[0;36mcountry_plot\u001b[1;34m(meal)\u001b[0m\n\u001b[0;32m      1\u001b[0m \u001b[1;32mdef\u001b[0m \u001b[0mcountry_plot\u001b[0m\u001b[1;33m(\u001b[0m\u001b[0mmeal\u001b[0m\u001b[1;33m)\u001b[0m\u001b[1;33m:\u001b[0m\u001b[1;33m\u001b[0m\u001b[1;33m\u001b[0m\u001b[0m\n\u001b[1;32m----> 2\u001b[1;33m     \u001b[0mindia\u001b[0m \u001b[1;33m=\u001b[0m \u001b[0mgpd\u001b[0m\u001b[1;33m.\u001b[0m\u001b[0mread_file\u001b[0m\u001b[1;33m(\u001b[0m\u001b[1;34m'C:\\\\Users\\\\Nick\\\\Documents\\\\GitHub\\\\Indian_food_project\\\\raw_data\\\\Indian_states.shp'\u001b[0m\u001b[1;33m)\u001b[0m\u001b[1;33m\u001b[0m\u001b[1;33m\u001b[0m\u001b[0m\n\u001b[0m\u001b[0;32m      3\u001b[0m     \u001b[0mcourse\u001b[0m \u001b[1;33m=\u001b[0m \u001b[0mfood\u001b[0m\u001b[1;33m.\u001b[0m\u001b[0mcourse\u001b[0m \u001b[1;33m==\u001b[0m \u001b[0mmeal\u001b[0m\u001b[1;33m\u001b[0m\u001b[1;33m\u001b[0m\u001b[0m\n\u001b[0;32m      4\u001b[0m     \u001b[0mcourse_selected\u001b[0m \u001b[1;33m=\u001b[0m \u001b[0mcourse\u001b[0m\u001b[1;33m.\u001b[0m\u001b[0mstate\u001b[0m\u001b[1;33m.\u001b[0m\u001b[0mvalue_counts\u001b[0m\u001b[1;33m(\u001b[0m\u001b[1;33m)\u001b[0m\u001b[1;33m.\u001b[0m\u001b[0mreset_index\u001b[0m\u001b[1;33m(\u001b[0m\u001b[1;33m)\u001b[0m\u001b[1;33m\u001b[0m\u001b[1;33m\u001b[0m\u001b[0m\n\u001b[0;32m      5\u001b[0m     \u001b[0mcourse\u001b[0m\u001b[1;33m.\u001b[0m\u001b[0mcolumns\u001b[0m \u001b[1;33m=\u001b[0m \u001b[1;33m[\u001b[0m\u001b[1;34m'state'\u001b[0m\u001b[1;33m,\u001b[0m\u001b[1;34m'count'\u001b[0m\u001b[1;33m]\u001b[0m\u001b[1;33m\u001b[0m\u001b[1;33m\u001b[0m\u001b[0m\n",
      "\u001b[1;31mNameError\u001b[0m: name 'gpd' is not defined"
     ]
    }
   ],
   "source": [
    "country_plot('dessert')"
   ]
  },
  {
   "cell_type": "code",
   "execution_count": 141,
   "metadata": {},
   "outputs": [
    {
     "ename": "NameError",
     "evalue": "name 'gpd' is not defined",
     "output_type": "error",
     "traceback": [
      "\u001b[1;31m---------------------------------------------------------------------------\u001b[0m",
      "\u001b[1;31mNameError\u001b[0m                                 Traceback (most recent call last)",
      "\u001b[1;32m<ipython-input-141-011b0b90259b>\u001b[0m in \u001b[0;36m<module>\u001b[1;34m\u001b[0m\n\u001b[1;32m----> 1\u001b[1;33m \u001b[0mindia\u001b[0m \u001b[1;33m=\u001b[0m \u001b[0mgpd\u001b[0m\u001b[1;33m.\u001b[0m\u001b[0mread_file\u001b[0m\u001b[1;33m(\u001b[0m\u001b[1;34m'C:\\\\Users\\\\Nick\\\\Documents\\\\GitHub\\\\Indian_food_project\\\\raw_data\\\\Indian_states.shp'\u001b[0m\u001b[1;33m)\u001b[0m\u001b[1;33m\u001b[0m\u001b[1;33m\u001b[0m\u001b[0m\n\u001b[0m",
      "\u001b[1;31mNameError\u001b[0m: name 'gpd' is not defined"
     ]
    }
   ],
   "source": [
    "india = gpd.read_file('C:\\\\Users\\\\Nick\\\\Documents\\\\GitHub\\\\Indian_food_project\\\\raw_data\\\\Indian_states.shp')"
   ]
  },
  {
   "cell_type": "code",
   "execution_count": null,
   "metadata": {},
   "outputs": [],
   "source": []
  }
 ],
 "metadata": {
  "kernelspec": {
   "display_name": "Python 3",
   "language": "python",
   "name": "python3"
  },
  "language_info": {
   "codemirror_mode": {
    "name": "ipython",
    "version": 3
   },
   "file_extension": ".py",
   "mimetype": "text/x-python",
   "name": "python",
   "nbconvert_exporter": "python",
   "pygments_lexer": "ipython3",
   "version": "3.8.3"
  }
 },
 "nbformat": 4,
 "nbformat_minor": 4
}
